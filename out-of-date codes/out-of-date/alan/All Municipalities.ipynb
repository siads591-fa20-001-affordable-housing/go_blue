{
 "cells": [
  {
   "cell_type": "markdown",
   "metadata": {},
   "source": [
    "# Concatenate Kent County Records"
   ]
  },
  {
   "cell_type": "code",
   "execution_count": 21,
   "metadata": {},
   "outputs": [],
   "source": [
    "import pandas as pd\n",
    "import geopandas"
   ]
  },
  {
   "cell_type": "markdown",
   "metadata": {},
   "source": [
    "## Import Kent County Records and Concatenate Them"
   ]
  },
  {
   "cell_type": "code",
   "execution_count": 27,
   "metadata": {},
   "outputs": [],
   "source": [
    "Municipalities_List=['Ada_Township','Algoma_Township','Alpine_Township','Bowne_Township','Byron_Township','Caledonia_Township','Cannon_Township','Cascade_Township',\\\n",
    "                    'City_of_Cedar_Springs','City_of_East_Grand_Rapids','City_of_Grand_Rapids','City_of_Grandville','City_of_Kentwood','City_of_Lowell','City_of_Rockford',\\\n",
    "                    'City_of_Walker','City_of_Wyoming','Courtland_Township','Gaines_Township','Grand_Rapids_Township','Grattan_Township','Lowell_Township','Nelson_Township',\\\n",
    "                    'Oakfield_Township','Plainfield_Township','Solon_Township','Sparta_Township','Spencer_Township','Tyrone_Township','Vergennes_Township']\n",
    "geodataframes_list=[]\n",
    "for Municipality in Municipalities_List:\n",
    "    Municipality_file=geopandas.read_file('documents/UofM/SIADS 591/Kent County Shape Files/'+Municipality+'_Parcels.shp')\n",
    "    Municipality_file.loc[:,'Municipality']=Municipality\n",
    "    geodataframes_list.append(Municipality_file)\n",
    "    \n",
    "All_Municipalities=geopandas.GeoDataFrame(pd.concat(geodataframes_list,ignore_index=True))"
   ]
  },
  {
   "cell_type": "markdown",
   "metadata": {},
   "source": [
    "## Deduplicate Concatenated File"
   ]
  },
  {
   "cell_type": "code",
   "execution_count": 29,
   "metadata": {},
   "outputs": [],
   "source": [
    "columns=list(All_Municipalities.columns)[:-2]\n",
    "All_Municipalities=All_Municipalities.drop_duplicates(subset=columns,keep='first')\n",
    "All_Municipalities=All_Municipalities.reset_index()\n",
    "All_Municipalities=All_Municipalities.rename(columns={'index':'ID'})"
   ]
  },
  {
   "cell_type": "markdown",
   "metadata": {},
   "source": [
    "## Export Municipalities Files"
   ]
  },
  {
   "cell_type": "code",
   "execution_count": 30,
   "metadata": {},
   "outputs": [],
   "source": [
    "All_Municipalities_No_Geometry=All_Municipalities.drop(columns='geometry')\n",
    "All_Municipalities_No_Geometry.to_csv('documents/UofM/SIADS 591/All Municipalities No Geometry.csv')"
   ]
  },
  {
   "cell_type": "code",
   "execution_count": 31,
   "metadata": {},
   "outputs": [],
   "source": [
    "All_Municipalities_Geometry_Only=All_Municipalities.loc[:,['ID','geometry']]\n",
    "All_Municipalities_Geometry_Only.to_file('documents/UofM/SIADS 591/All Municipalities Geometry Only.shp')"
   ]
  },
  {
   "cell_type": "code",
   "execution_count": 47,
   "metadata": {},
   "outputs": [],
   "source": [
    "All_Municipalities_Geometry_and_Municipality=All_Municipalities.loc[:,['ID','geometry','Municipality']]\n",
    "All_Municipalities_Geometry_and_Municipality.to_file('documents/UofM/SIADS 591/All Municipalities Geometry and Municipality.geojson')"
   ]
  },
  {
   "cell_type": "code",
   "execution_count": null,
   "metadata": {},
   "outputs": [],
   "source": []
  }
 ],
 "metadata": {
  "kernelspec": {
   "display_name": "Python 3",
   "language": "python",
   "name": "python3"
  },
  "language_info": {
   "codemirror_mode": {
    "name": "ipython",
    "version": 3
   },
   "file_extension": ".py",
   "mimetype": "text/x-python",
   "name": "python",
   "nbconvert_exporter": "python",
   "pygments_lexer": "ipython3",
   "version": "3.8.5"
  }
 },
 "nbformat": 4,
 "nbformat_minor": 4
}
