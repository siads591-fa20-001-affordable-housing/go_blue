{
 "cells": [
  {
   "cell_type": "markdown",
   "metadata": {},
   "source": [
    "# University of Michigan\n",
    "## School of Information\n",
    "### Masters of Applied Data Science\n",
    "#### Milestone 1\n",
    "#### Alan, Koon Leong, George"
   ]
  },
  {
   "cell_type": "markdown",
   "metadata": {},
   "source": [
    "**Data Visualizatio**"
   ]
  },
  {
   "cell_type": "code",
   "execution_count": 1,
   "metadata": {},
   "outputs": [],
   "source": [
    "import pandas as pd\n",
    "import numpy as np\n",
    "\n",
    "import plotly.express as px\n",
    "import matplotlib.pyplot as plt\n",
    "import seaborn as sns\n",
    "import warnings\n",
    "import os\n",
    "warnings.filterwarnings('ignore')\n",
    "directory=os.getcwd()"
   ]
  },
  {
   "cell_type": "markdown",
   "metadata": {},
   "source": [
    "#### Geospatial data\n",
    "These are shapefiles for all the parcels in Kent County.  The data are provided by Kent County by cities and townships.  These were merged into one set of files for the entire county.\n",
    "\n",
    "The source data geographical information uses \"NAD83 State Plane Michigan South (International Feet)\" projection.  This will be converted into \"latitude and longitude coordinates on the WGS84 reference ellipsoid\" projection.\n",
    "\n",
    "Source: https://www.accesskent.com/GISLibrary/"
   ]
  },
  {
   "cell_type": "code",
   "execution_count": 2,
   "metadata": {},
   "outputs": [],
   "source": [
    "import geopandas\n",
    "GRParcelsUnit=geopandas.read_file(directory + \n",
    "                              r'/municipalities/All Municipalities Geometry and Municipality.shp')\n",
    "# convert into latitude/longitude coordinates\n",
    "GRParcelsUnit=GRParcelsUnit.to_crs('EPSG:4326')\n",
    "GRParcelsUnit=GRParcelsUnit.__geo_interface__\n"
   ]
  },
  {
   "cell_type": "code",
   "execution_count": 3,
   "metadata": {},
   "outputs": [],
   "source": [
    "Property_Level=pd.read_csv(directory + r'/property_level.csv')\n",
    "Property_Level = Property_Level.drop(Property_Level.columns[[0,1]], axis = 1)\n",
    "Property_Level = Property_Level.rename(columns = {'PNUM': 'APN'})\n",
    "Property_Level.City = Property_Level.City.str.upper() \n",
    "Property_Level['MSHDA Score'] = Property_Level['MSHDA Score'].astype('int') \n",
    "Property_Level[\"Per Acre\"] = (Property_Level[\"SEV\"]/Property_Level[\"Acres\"]).fillna(0).astype('int')"
   ]
  },
  {
   "cell_type": "code",
   "execution_count": 4,
   "metadata": {},
   "outputs": [],
   "source": [
    "GRParcels=geopandas.read_file(directory + r'/block_group/Block_Group_Summary.shp')\n",
    "GRParcels=GRParcels.to_crs('EPSG:4326')\n",
    "GRParcels=GRParcels.__geo_interface__\n",
    "Block_Property_Level=pd.read_csv(directory + r'/block_groups.csv')"
   ]
  },
  {
   "cell_type": "markdown",
   "metadata": {},
   "source": [
    "#### Heatmap\n",
    "The entire geospatial data has about 240,000 entries.  To reduced the memory usage, this will be filtered the city parameter."
   ]
  },
  {
   "cell_type": "code",
   "execution_count": 5,
   "metadata": {
    "scrolled": false
   },
   "outputs": [],
   "source": [
    "# pd.DataFrame(Property_Level.City.unique())\n",
    "summary_df = Property_Level[['City','MSHDA Score']].copy(deep = True)\n",
    "summary_df = summary_df.groupby(['City', 'MSHDA Score']).agg({'MSHDA Score': 'count'}). \\\n",
    "    rename(columns={'MSHDA Score': 'Count'}).reset_index(drop = False)\n",
    "\n",
    "pd.set_option('display.max_rows', 500)\n",
    "pd.set_option('display.max_columns', 500)\n",
    "\n",
    "summary_df = summary_df.pivot(index = 'MSHDA Score', columns = 'City', values = 'Count'). \\\n",
    "                fillna(0).astype(int).reset_index(drop= False)\n"
   ]
  },
  {
   "cell_type": "code",
   "execution_count": 6,
   "metadata": {
    "scrolled": true
   },
   "outputs": [],
   "source": [
    "# Define parameters for the map plot\n",
    "city = 'GRAND RAPIDS'\n",
    "min_score = 0\n",
    "\n",
    "# Create the filter for the data\n",
    "city_filter = Property_Level.City == city \n",
    "score_filter = Property_Level['MSHDA Score']>= min_score\n",
    "final_filter = city_filter & score_filter\n",
    "\n",
    "# Set the map center appropriate for the City\n",
    "map_center = {'lat':42.9634,'lon':-85.6681}\n",
    "zoom = 15\n",
    "\n",
    "# Reduce the dataset to show what is filtered in\n",
    "plot_df = Property_Level.loc[final_filter, ['ID', 'MSHDA Score', 'Address','City','Acres','SEV', 'Per Acre']].fillna(0)"
   ]
  },
  {
   "cell_type": "code",
   "execution_count": null,
   "metadata": {},
   "outputs": [],
   "source": [
    "fig=px.choropleth_mapbox(plot_df, geojson=GRParcelsUnit,color='MSHDA Score',\\\n",
    "                         locations='ID',featureidkey='plot_df.ID',\\\n",
    "                         center= map_center,\n",
    "                         mapbox_style=\"carto-positron\", zoom=zoom,\n",
    "                         color_continuous_midpoint = 20,\n",
    "                        hover_data=['Address','City','Acres','SEV', 'Per Acre'])\n",
    "fig.update_layout(margin={'r':0,'t':0,'l':0,'b':0})\n",
    "fig.show()"
   ]
  },
  {
   "cell_type": "code",
   "execution_count": null,
   "metadata": {},
   "outputs": [],
   "source": [
    "# fig=px.choropleth_mapbox(Block_Property_Level,geojson=GRParcels,color='MSHDA Score',\\\n",
    "#                         locations='block_group',featureidkey='properties.GEOID',\\\n",
    "#                         center=map_center,\n",
    "#                         mapbox_style=\"carto-positron\", zoom=zoom\n",
    "#                         )\n",
    "# fig.update_layout(margin={'r':0,'t':0,'l':0,'b':0})\n",
    "# fig.show()"
   ]
  },
  {
   "cell_type": "code",
   "execution_count": null,
   "metadata": {},
   "outputs": [],
   "source": [
    "plot_df = Property_Level.loc[:,['City', 'MSHDA Score']]\n",
    "plot_df['City'] = plot_df['City'].str.upper()\n"
   ]
  },
  {
   "cell_type": "code",
   "execution_count": null,
   "metadata": {},
   "outputs": [],
   "source": [
    "heatmap = px.density_heatmap(plot_df, x=\"MSHDA Score\", y=\"City\",\n",
    "                             facet_row_spacing = 0.3,\n",
    "                             facet_col_spacing = 0.3,\n",
    "                             color_continuous_scale=\"RdYlGn\",\n",
    "                             width=800, height=800\n",
    "                            )\n",
    "heatmap.show()"
   ]
  },
  {
   "cell_type": "code",
   "execution_count": null,
   "metadata": {},
   "outputs": [],
   "source": [
    "splom_df = Property_Level.loc[:,[\"MSHDA Score\", \"Acres\", \"SEV\", \"Per Acre\"]]\n",
    "\n",
    "sev_upper_limit = 5000000\n",
    "per_acre_upper_limit = 500000\n",
    "acre_upper_limit = 50\n",
    "min_score = 10\n",
    "ideal_lower_limit = 1\n",
    "ideal_upper_limit = 10\n",
    "\n",
    "sev_limit = splom_df.SEV<sev_upper_limit\n",
    "splom_df = splom_df[sev_limit]\n",
    "\n",
    "\n",
    "per_acre_limit = splom_df[\"Per Acre\"] < per_acre_upper_limit\n",
    "splom_df = splom_df[per_acre_limit]\n",
    "\n",
    "acre_limit = splom_df.Acres < acre_upper_limit\n",
    "splom_df = splom_df[acre_limit]\n",
    "\n",
    "\n",
    "MSHDA_limit = splom_df['MSHDA Score'] >= min_score\n",
    "splom_df = splom_df[MSHDA_limit]\n",
    "\n",
    "splom_df['Size']=\"\"\n",
    "splom_df.loc[splom_df.Acres < ideal_lower_limit, ['Size']]=\"Small\"\n",
    "splom_df.loc[splom_df.Acres > ideal_upper_limit, ['Size']]=\"Large\"\n",
    "ideal = (splom_df.Acres >= ideal_lower_limit) & (splom_df.Acres <= ideal_upper_limit)\n",
    "splom_df.loc[ideal, ['Size']]=\"Ideal\"\n"
   ]
  },
  {
   "cell_type": "code",
   "execution_count": null,
   "metadata": {
    "scrolled": false
   },
   "outputs": [],
   "source": [
    "import seaborn as sns\n",
    "import matplotlib.pyplot as plt\n",
    "sns.set_theme(style=\"whitegrid\")\n",
    "\n",
    "plt.figure(figsize=(8000, 8000))\n",
    "sns.set_theme(style=\"ticks\")\n",
    "sns.pairplot(splom_df.loc[:,['MSHDA Score', 'Acres', 'Per Acre', 'Size']],\n",
    "             hue_order = ['Small', 'Ideal', 'Large'],\n",
    "             palette = {'Small': 'gainsboro', 'Ideal': 'r', 'Large': 'powderblue'},\n",
    "             hue = 'Size',\n",
    "             diag_kind = 'kde',\n",
    "             height = 4,\n",
    "             corner = True\n",
    "            )\n",
    "sns.despine()\n"
   ]
  },
  {
   "cell_type": "code",
   "execution_count": null,
   "metadata": {},
   "outputs": [],
   "source": [
    "import seaborn as sns\n",
    "import matplotlib.pyplot as plt\n",
    "sns.set_theme(style=\"whitegrid\")\n",
    "\n",
    "\n",
    "# Draw a scatter plot while assigning point colors and sizes to different\n",
    "# variables in the dataset\n",
    "f, ax = plt.subplots(figsize=(14, 14))\n",
    "sns.despine(f, left=True, bottom=True)\n",
    "sns.scatterplot(x=\"MSHDA Score\", y=\"Per Acre\",\n",
    "                hue=\"Size\",\n",
    "                palette = {'Small': 'gainsboro', 'Ideal': 'r', 'Large': 'powderblue'},\n",
    "                hue_order = ['Small', 'Ideal', 'Large'],\n",
    "                linewidth=0,\n",
    "                data=splom_df.loc[:,['MSHDA Score', 'Acres', 'Per Acre', 'Size']], ax=ax)"
   ]
  },
  {
   "cell_type": "code",
   "execution_count": null,
   "metadata": {},
   "outputs": [],
   "source": []
  }
 ],
 "metadata": {
  "kernelspec": {
   "display_name": "Python 3",
   "language": "python",
   "name": "python3"
  },
  "language_info": {
   "codemirror_mode": {
    "name": "ipython",
    "version": 3
   },
   "file_extension": ".py",
   "mimetype": "text/x-python",
   "name": "python",
   "nbconvert_exporter": "python",
   "pygments_lexer": "ipython3",
   "version": "3.8.5"
  }
 },
 "nbformat": 4,
 "nbformat_minor": 4
}
