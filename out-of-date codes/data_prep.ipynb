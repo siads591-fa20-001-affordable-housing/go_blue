{
 "cells": [
  {
   "cell_type": "markdown",
   "metadata": {},
   "source": [
    "# University of Michigan\n",
    "## School of Information\n",
    "### Masters of Applied Data Science\n",
    "#### Milestone 1\n",
    "#### Alan, Koon Leong, George"
   ]
  },
  {
   "cell_type": "markdown",
   "metadata": {},
   "source": [
    "**Data Preparation**"
   ]
  },
  {
   "cell_type": "code",
   "execution_count": 1,
   "metadata": {},
   "outputs": [],
   "source": [
    "import sqlalchemy\n",
    "import pandas as pd\n",
    "import geopandas\n",
    "import numpy as np\n",
    "from config import dbconfig, basedir\n",
    "test_mode = False"
   ]
  },
  {
   "cell_type": "code",
   "execution_count": null,
   "metadata": {},
   "outputs": [
    {
     "name": "stdout",
     "output_type": "stream",
     "text": [
      "Data file /Users/koonleong/Documents/UMMADS/SIADS591/project_git/go_blue/src/final/data/property_level.csv\n"
     ]
    }
   ],
   "source": [
    "# Upload property csv file into database\n",
    "db_engine = dbconfig()\n",
    "db_table = \"SIADS591_property\"\n",
    "\n",
    "def convert2int(df):\n",
    "    return df.astype('int')\n",
    "\n",
    "def calculate_percentage(data):\n",
    "    list_of_cities = list(data['City'].unique())\n",
    "    p_data = data.copy()\n",
    "    p_data['Percent']=0\n",
    "    for city in list_of_cities:\n",
    "        total_in_city = len(p_data[p_data.City == city])\n",
    "        p_data.loc[p_data.City == city, ['Percent']] = (1/total_in_city)*100\n",
    "    return p_data\n",
    "\n",
    "def upload_properties():\n",
    "    file_dir = basedir()\n",
    "    file_name = r'/data/property_level.csv'\n",
    "\n",
    "    full_path = file_dir+file_name\n",
    "    print(f'Data file {full_path}')\n",
    "    df = pd.read_csv(file_dir+file_name)\n",
    "    df = df.iloc[:,2:-1]\n",
    "    df = df.rename(columns = {'PNUM': 'APN'})\n",
    "    df['City'] = df['City'].str.upper()\n",
    "    df = df.fillna(0)\n",
    "    df['Per Arce'] = convert2int(df['SEV']/df['Acres'])\n",
    "    df['SEV'] = convert2int(df['SEV'])\n",
    "    df['MSHDA Score'] = convert2int(df['MSHDA Score'])\n",
    "    df['amenities_ind'] = convert2int(df['amenities_ind'])\n",
    "    df['walkscore_ind'] = convert2int(df['walkscore_ind'])\n",
    "    \n",
    "    df = calculate_percentage(df)\n",
    "    \n",
    "    if test_mode:\n",
    "        df = df.iloc[0:100,:]\n",
    "        df.to_sql(db_table, db_engine, if_exists='replace', index = False)        \n",
    "    else:\n",
    "        df.to_sql(db_table, db_engine, if_exists='replace', index = False)\n",
    "    \n",
    "    return df\n",
    "\n",
    "data_df = upload_properties()\n",
    "data_df"
   ]
  },
  {
   "cell_type": "code",
   "execution_count": null,
   "metadata": {},
   "outputs": [],
   "source": [
    "# Upload property csv file into database\n",
    "db_engine = dbconfig()\n",
    "db_table = \"SIADS591_block\"\n",
    "\n",
    "def convert2int(df):\n",
    "    return df.astype('int')\n",
    "\n",
    "def upload_blocks():\n",
    "    file_dir = basedir()\n",
    "    file_name = r'/data/block_groups.csv'\n",
    "\n",
    "    full_path = file_dir+file_name\n",
    "    print(f'Data file {full_path}')\n",
    "    df = pd.read_csv(file_dir+file_name)\n",
    "#     df = df.iloc[:,2:-1]\n",
    "#     df = df.rename(columns = {'PNUM': 'APN'})\n",
    "#     df['City'] = df['City'].str.upper()\n",
    "#     df = df.fillna(0)\n",
    "#     df['Per Arce'] = convert2int(df['SEV']/df['Acres'])\n",
    "#     df['SEV'] = convert2int(df['SEV'])\n",
    "#     df['MSHDA Score'] = convert2int(df['MSHDA Score'])\n",
    "#     df['amenities_ind'] = convert2int(df['amenities_ind'])\n",
    "#     df['walkscore_ind'] = convert2int(df['walkscore_ind'])\n",
    "    \n",
    "    df.to_sql(db_table, db_engine, if_exists='replace', index = False, chunksize = 50000)\n",
    "    \n",
    "    return df\n",
    "\n",
    "# upload_blocks()\n",
    "    "
   ]
  },
  {
   "cell_type": "code",
   "execution_count": null,
   "metadata": {},
   "outputs": [],
   "source": []
  },
  {
   "cell_type": "code",
   "execution_count": null,
   "metadata": {
    "scrolled": false
   },
   "outputs": [],
   "source": [
    "\n",
    "    "
   ]
  },
  {
   "cell_type": "code",
   "execution_count": null,
   "metadata": {},
   "outputs": [],
   "source": []
  }
 ],
 "metadata": {
  "kernelspec": {
   "display_name": "Python 3",
   "language": "python",
   "name": "python3"
  },
  "language_info": {
   "codemirror_mode": {
    "name": "ipython",
    "version": 3
   },
   "file_extension": ".py",
   "mimetype": "text/x-python",
   "name": "python",
   "nbconvert_exporter": "python",
   "pygments_lexer": "ipython3",
   "version": "3.8.5"
  }
 },
 "nbformat": 4,
 "nbformat_minor": 4
}
