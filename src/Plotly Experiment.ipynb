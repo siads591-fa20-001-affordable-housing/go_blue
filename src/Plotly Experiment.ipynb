{
 "cells": [
  {
   "cell_type": "code",
   "execution_count": null,
   "metadata": {},
   "outputs": [],
   "source": [
    "import pandas as pd\n",
    "import geopandas\n",
    "import plotly.express as px"
   ]
  },
  {
   "cell_type": "code",
   "execution_count": null,
   "metadata": {},
   "outputs": [],
   "source": [
    "GRParcels=geopandas.read_file('documents/UofM/SIADS 591/All Municipalities Geometry Only.shp')\n",
    "GRParcels=GRParcels.to_crs('EPSG:4326')\n",
    "GRParcels=GRParcels.__geo_interface__\n",
    "Property_Level=pd.read_csv('documents/UofM/SIADS 591/Property Level.csv')"
   ]
  },
  {
   "cell_type": "code",
   "execution_count": null,
   "metadata": {},
   "outputs": [],
   "source": [
    "fig=px.choropleth_mapbox(Property_Level,geojson=GRParcels,color='MSHDA Score',\\\n",
    "                        locations='ID',featureidkey='properties.ID',\\\n",
    "                        center={'lat':42.9634,'lon':-85.6681},\n",
    "                        mapbox_style=\"carto-positron\", zoom=10,\n",
    "                        hover_data=['Address','City','Acres','SEV'])\n",
    "fig.update_layout(margin={'r':0,'t':0,'l':0,'b':0})\n",
    "fig.show()"
   ]
  },
  {
   "cell_type": "code",
   "execution_count": null,
   "metadata": {},
   "outputs": [],
   "source": [
    "GRParcels=geopandas.read_file('documents/UofM/SIADS 591/Block_Group_Summary.shp')\n",
    "GRParcels=GRParcels.to_crs('EPSG:4326')\n",
    "GRParcels=GRParcels.__geo_interface__\n",
    "Property_Level=pd.read_csv('documents/UofM/SIADS 591/Block_Group_Summary.csv')"
   ]
  },
  {
   "cell_type": "code",
   "execution_count": null,
   "metadata": {},
   "outputs": [],
   "source": [
    "fig=px.choropleth_mapbox(Property_Level,geojson=GRParcels,color='MSHDA Score',\\\n",
    "                        locations='block_group',featureidkey='properties.GEOID',\\\n",
    "                        center={'lat':42.9634,'lon':-85.6681},\n",
    "                        mapbox_style=\"carto-positron\", zoom=10,\n",
    "                        hover_)\n",
    "fig.update_layout(margin={'r':0,'t':0,'l':0,'b':0})\n",
    "fig.show()"
   ]
  },
  {
   "cell_type": "code",
   "execution_count": null,
   "metadata": {},
   "outputs": [],
   "source": [
    "Property_Level"
   ]
  },
  {
   "cell_type": "code",
   "execution_count": null,
   "metadata": {},
   "outputs": [],
   "source": []
  }
 ],
 "metadata": {
  "kernelspec": {
   "display_name": "Python 3",
   "language": "python",
   "name": "python3"
  },
  "language_info": {
   "codemirror_mode": {
    "name": "ipython",
    "version": 3
   },
   "file_extension": ".py",
   "mimetype": "text/x-python",
   "name": "python",
   "nbconvert_exporter": "python",
   "pygments_lexer": "ipython3",
   "version": "3.8.5"
  }
 },
 "nbformat": 4,
 "nbformat_minor": 4
}
