{
 "cells": [
  {
   "cell_type": "code",
   "execution_count": null,
   "metadata": {},
   "outputs": [],
   "source": [
    "import pandas as pd\n",
    "import geopandas\n",
    "from config import dbconfig\n",
    "from sqlalchemy import create_engine\n",
    "import plotly.express as px"
   ]
  },
  {
   "cell_type": "code",
   "execution_count": null,
   "metadata": {},
   "outputs": [],
   "source": [
    "GRParcels=geopandas.read_file('City_of_grand_rapids_parcels.shp')\n",
    "GRParcels=GRParcels.to_crs('EPSG:4326')\n",
    "GRParcels=GRParcels.__geo_interface__\n",
    "\n",
    "database = dbconfig()\n",
    "table = r\"walkscore\"\n",
    "walkscore = pd.read_sql(table, database)\n"
   ]
  },
  {
   "cell_type": "code",
   "execution_count": null,
   "metadata": {},
   "outputs": [],
   "source": [
    "fig=px.choropleth_mapbox(walkscore,geojson=GRParcels,color='walkscore',\\\n",
    "                        locations='original_apn',featureidkey='properties.PNUM',\\\n",
    "                        center={'lat':42.9634,'lon':-85.6681},\n",
    "                        mapbox_style=\"carto-positron\", zoom=10)\n",
    "fig.update_layout(margin={'r':0,'t':0,'l':0,'b':0})\n",
    "fig.show()"
   ]
  },
  {
   "cell_type": "code",
   "execution_count": null,
   "metadata": {},
   "outputs": [],
   "source": []
  }
 ],
 "metadata": {
  "kernelspec": {
   "display_name": "Python 3",
   "language": "python",
   "name": "python3"
  },
  "language_info": {
   "codemirror_mode": {
    "name": "ipython",
    "version": 3
   },
   "file_extension": ".py",
   "mimetype": "text/x-python",
   "name": "python",
   "nbconvert_exporter": "python",
   "pygments_lexer": "ipython3",
   "version": "3.8.5"
  }
 },
 "nbformat": 4,
 "nbformat_minor": 4
}
