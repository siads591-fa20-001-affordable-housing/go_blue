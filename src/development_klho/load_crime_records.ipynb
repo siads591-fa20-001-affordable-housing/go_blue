{
 "cells": [
  {
   "cell_type": "code",
   "execution_count": null,
   "metadata": {},
   "outputs": [],
   "source": [
    "from config import dbconfig\n",
    "from sqlalchemy import create_engine\n",
    "import pandas as pd\n",
    "\n",
    "db = dbconfig()\n",
    "pg_string = f\"postgresql://{db['user']}:{db['pass']}@{db['host']}:{db['port']}/{db['database']}\"\n",
    "db_engine = create_engine(pg_string, echo = False)\n",
    "\n",
    "crime_records = r'/Users/koonleong/Documents/UM MADS/SIADS 591/Project/data/michigan_offense_type_by_agency_2019.xlsx'\n",
    "crime_township = pd.read_excel(crime_records)\n",
    "crime_township.fillna(0, inplace=True)\n",
    "crime_township['Population'] = crime_township['Population'].astype(\"int32\")\n",
    "crime_township['TotalOffenses'] = crime_township['TotalOffenses'].astype(\"int32\")\n",
    " \n",
    "    \n",
    "table = 'crime'\n",
    "crime_township.to_sql(table, db_engine, if_exists = 'replace', index = True)"
   ]
  },
  {
   "cell_type": "code",
   "execution_count": null,
   "metadata": {},
   "outputs": [],
   "source": []
  }
 ],
 "metadata": {
  "kernelspec": {
   "display_name": "Python 3",
   "language": "python",
   "name": "python3"
  },
  "language_info": {
   "codemirror_mode": {
    "name": "ipython",
    "version": 3
   },
   "file_extension": ".py",
   "mimetype": "text/x-python",
   "name": "python",
   "nbconvert_exporter": "python",
   "pygments_lexer": "ipython3",
   "version": "3.7.6"
  }
 },
 "nbformat": 4,
 "nbformat_minor": 4
}
