{
 "cells": [
  {
   "cell_type": "code",
   "execution_count": null,
   "metadata": {},
   "outputs": [],
   "source": [
    "import pandas as pd\n",
    "import geopandas\n",
    "import plotly.express as px"
   ]
  },
  {
   "cell_type": "code",
   "execution_count": null,
   "metadata": {},
   "outputs": [],
   "source": [
    "GRParcels=geopandas.read_file('/Users/koonleong/Documents/UMMADS/SIADS591/project_git/go_blue/src/alan/All Municipalities Geometry and Municipality.geojson/All Municipalities Geometry and Municipality.shp')\n",
    "GRParcels=GRParcels.to_crs('EPSG:4326')\n",
    "GRParcels=GRParcels.__geo_interface__\n"
   ]
  },
  {
   "cell_type": "code",
   "execution_count": null,
   "metadata": {},
   "outputs": [],
   "source": [
    "Property_Level=pd.read_csv('/Users/koonleong/Documents/UMMADS/SIADS591/project_git/go_blue/src/alan/property_level.csv')\n"
   ]
  },
  {
   "cell_type": "code",
   "execution_count": null,
   "metadata": {},
   "outputs": [],
   "source": [
    "fig=px.choropleth_mapbox(Property_Level,geojson=GRParcels,color='MSHDA Score',\\\n",
    "                        locations='ID',featureidkey='properties.ID',\\\n",
    "                        center={'lat':42.9634,'lon':-85.6681},\n",
    "                        mapbox_style=\"carto-positron\", zoom=10,\n",
    "                        hover_data=['Address','City','Acres','SEV'])\n",
    "fig.update_layout(margin={'r':0,'t':0,'l':0,'b':0})\n",
    "fig.show()"
   ]
  },
  {
   "cell_type": "code",
   "execution_count": null,
   "metadata": {},
   "outputs": [],
   "source": [
    "GRParcels=geopandas.read_file('documents/UofM/SIADS 591/Block_Group_Summary.shp')\n",
    "GRParcels=GRParcels.to_crs('EPSG:4326')\n",
    "GRParcels=GRParcels.__geo_interface__\n",
    "Property_Level=pd.read_csv('documents/UofM/SIADS 591/Block_Group_Summary.csv')"
   ]
  },
  {
   "cell_type": "code",
   "execution_count": null,
   "metadata": {},
   "outputs": [],
   "source": [
    "fig=px.choropleth_mapbox(Property_Level,geojson=GRParcels,color='MSHDA Score',\\\n",
    "                        locations='block_group',featureidkey='properties.GEOID',\\\n",
    "                        center={'lat':42.9634,'lon':-85.6681},\n",
    "                        mapbox_style=\"carto-positron\", zoom=10,\n",
    "                        hover_)\n",
    "fig.update_layout(margin={'r':0,'t':0,'l':0,'b':0})\n",
    "fig.show()"
   ]
  },
  {
   "cell_type": "code",
   "execution_count": null,
   "metadata": {},
   "outputs": [],
   "source": [
    "Property_Level"
   ]
  },
  {
   "cell_type": "code",
   "execution_count": null,
   "metadata": {},
   "outputs": [],
   "source": [
    "Property_Level['City'] = Property_Level['City'].str.upper()\n",
    "heatmap = px.density_heatmap(Property_Level, x=\"MSHDA Score\", y=\"City\", \n",
    "                             color_continuous_scale=\"RdYlGn\",\n",
    "                             width=800, height=800\n",
    "                            )\n",
    "heatmap.show()"
   ]
  },
  {
   "cell_type": "code",
   "execution_count": null,
   "metadata": {},
   "outputs": [],
   "source": [
    "splom_df = Property_Level.loc[:,[\"MSHDA Score\", \"Acres\", \"SEV\"]]\n",
    "splom_df[\"Per Acre\"]=0\n",
    "splom_df[\"Per Acre\"] = splom_df[\"SEV\"]/splom_df[\"Acres\"]\n",
    "splom_df.loc[splom_df[\"Per Acre\"]>120000000,[\"Per Acre\"]]=0\n"
   ]
  },
  {
   "cell_type": "code",
   "execution_count": null,
   "metadata": {},
   "outputs": [],
   "source": [
    "splom = px.scatter_matrix(data_frame=splom_df,\n",
    "                          dimensions=[\"MSHDA Score\", \"Per Acre\", \"Acres\", \"SEV\"],\n",
    "                          width=800, height=800)\n",
    "splom.update_traces(diagonal_visible=False)\n",
    "splom.show()"
   ]
  },
  {
   "cell_type": "code",
   "execution_count": null,
   "metadata": {},
   "outputs": [],
   "source": [
    "dir(heatmap)"
   ]
  },
  {
   "cell_type": "code",
   "execution_count": null,
   "metadata": {},
   "outputs": [],
   "source": [
    "heatmap.layout"
   ]
  },
  {
   "cell_type": "code",
   "execution_count": null,
   "metadata": {},
   "outputs": [],
   "source": [
    "from textwrap import wrap\n",
    "\n",
    "named_colorscales = px.colors.named_colorscales()\n",
    "print(\"\\n\".join(wrap(\"\".join('{:<12}'.format(c) for c in named_colorscales), 96)))"
   ]
  },
  {
   "cell_type": "code",
   "execution_count": null,
   "metadata": {},
   "outputs": [],
   "source": [
    "fig = px.colors.diverging.swatches_continuous()\n",
    "fig.show()"
   ]
  },
  {
   "cell_type": "code",
   "execution_count": null,
   "metadata": {},
   "outputs": [],
   "source": [
    "Property"
   ]
  },
  {
   "cell_type": "code",
   "execution_count": null,
   "metadata": {},
   "outputs": [],
   "source": [
    "Property_Level\n"
   ]
  },
  {
   "cell_type": "code",
   "execution_count": null,
   "metadata": {},
   "outputs": [],
   "source": [
    "splom_df = Property_Level.loc[:,[\"MSHDA Score\", \"Acres\", \"SEV\"]]\n",
    "splom_df[\"Per Acre\"]=0\n",
    "splom_df[\"Per Acre\"] = splom_df[\"SEV\"]/splom_df[\"Acres\"]\n",
    "splom_df"
   ]
  },
  {
   "cell_type": "code",
   "execution_count": null,
   "metadata": {},
   "outputs": [],
   "source": []
  }
 ],
 "metadata": {
  "kernelspec": {
   "display_name": "Python 3",
   "language": "python",
   "name": "python3"
  },
  "language_info": {
   "codemirror_mode": {
    "name": "ipython",
    "version": 3
   },
   "file_extension": ".py",
   "mimetype": "text/x-python",
   "name": "python",
   "nbconvert_exporter": "python",
   "pygments_lexer": "ipython3",
   "version": "3.8.5"
  }
 },
 "nbformat": 4,
 "nbformat_minor": 4
}
