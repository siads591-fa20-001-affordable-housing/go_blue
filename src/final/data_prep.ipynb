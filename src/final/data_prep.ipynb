{
 "cells": [
  {
   "cell_type": "markdown",
   "metadata": {},
   "source": [
    "# University of Michigan\n",
    "## School of Information\n",
    "### Masters of Applied Data Science\n",
    "#### Milestone 1\n",
    "#### Alan, Koon Leong, George"
   ]
  },
  {
   "cell_type": "markdown",
   "metadata": {},
   "source": [
    "**Data Preparation**"
   ]
  },
  {
   "cell_type": "code",
   "execution_count": 2,
   "metadata": {},
   "outputs": [],
   "source": [
    "import sqlalchemy\n",
    "import pandas as pd\n",
    "import geopandas\n",
    "import geofeather\n",
    "import numpy as np\n",
    "from config import dbconfig, basedir\n",
    "\n",
    "properties_input = r'/data/property_level.csv'\n",
    "properties_output=r'/data/SIADS591_property.pkl'\n",
    "\n",
    "properties_shp_file = r'/data/municipalities/All Municipalities Geometry and Municipality.shp'\n",
    "properties_gis_output = r'/data/SIADS591municipalities.feather'\n",
    "\n",
    "test_mode = False"
   ]
  },
  {
   "cell_type": "code",
   "execution_count": 12,
   "metadata": {},
   "outputs": [],
   "source": [
    "# Upload property csv file into database\n",
    "\n",
    "\n",
    "def convert2int(df):\n",
    "    return df.astype('int')\n",
    "\n",
    "def calculate_percentage(data):\n",
    "    list_of_cities = list(data['City'].unique())\n",
    "    p_data = data.copy()\n",
    "    p_data['Percent']=0\n",
    "    for city in list_of_cities:\n",
    "        total_in_city = len(p_data[p_data.City == city])\n",
    "        p_data.loc[p_data.City == city, ['Percent']] = (1/total_in_city)*100\n",
    "    return p_data\n",
    "\n",
    "def prep_properties():\n",
    "    file_dir = basedir()\n",
    "    full_path = file_dir + properties_input\n",
    "    print(f'Data file {full_path}')\n",
    "    df = pd.read_csv(full_path)\n",
    "    df = df.iloc[:,2:-1]\n",
    "    df = df.rename(columns = {'PNUM': 'APN'})\n",
    "    df['City'] = df['City'].str.upper()\n",
    "    df = df.fillna(0)\n",
    "    df = df[~(df.City==0)]\n",
    "    df['Per Arce'] = convert2int(df['SEV']/df['Acres'])\n",
    "    df['SEV'] = convert2int(df['SEV'])\n",
    "    df['MSHDA Score'] = convert2int(df['MSHDA Score'])\n",
    "    df['amenities_ind'] = convert2int(df['amenities_ind'])\n",
    "    df['walkscore_ind'] = convert2int(df['walkscore_ind'])\n",
    "    \n",
    "    df = calculate_percentage(df)\n",
    "    \n",
    "    full_path = file_dir + properties_output\n",
    "    if test_mode:\n",
    "        df = df.iloc[0:100,:]\n",
    "        df.to_pickle(full_path)        \n",
    "    else:\n",
    "        df.to_pickle(full_path)\n",
    "    return df\n"
   ]
  },
  {
   "cell_type": "code",
   "execution_count": null,
   "metadata": {},
   "outputs": [],
   "source": [
    "prep_properties()"
   ]
  }
 ],
 "metadata": {
  "kernelspec": {
   "display_name": "Python 3",
   "language": "python",
   "name": "python3"
  },
  "language_info": {
   "codemirror_mode": {
    "name": "ipython",
    "version": 3
   },
   "file_extension": ".py",
   "mimetype": "text/x-python",
   "name": "python",
   "nbconvert_exporter": "python",
   "pygments_lexer": "ipython3",
   "version": "3.8.5"
  }
 },
 "nbformat": 4,
 "nbformat_minor": 4
}
