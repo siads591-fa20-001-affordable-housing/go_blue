{
 "cells": [
  {
   "cell_type": "markdown",
   "metadata": {},
   "source": [
    "# Add Opportunity Zone and Rising Tide Scores"
   ]
  },
  {
   "cell_type": "markdown",
   "metadata": {},
   "source": [
    "# University of Michigan\n",
    "## School of Information\n",
    "**Masters of Applied Data Science**<br>\n",
    "**Milestone 1**<br>\n",
    "<br>\n",
    "Affordable Housing Project\n",
    "<br><br>\n",
    "**Submitted by**<br>\n",
    ">Alan Fehsenfeld<br>Koon Leong Ho<br>George Thio"
   ]
  },
  {
   "cell_type": "code",
   "execution_count": 1,
   "metadata": {},
   "outputs": [],
   "source": [
    "import geopandas\n",
    "import pandas as pd\n",
    "from config import basedir\n",
    "\n",
    "base = basedir()"
   ]
  },
  {
   "cell_type": "markdown",
   "metadata": {},
   "source": [
    "## Read Census Tract Shape Files and Tax File and Join Them"
   ]
  },
  {
   "cell_type": "code",
   "execution_count": 72,
   "metadata": {},
   "outputs": [],
   "source": [
    "data_dir = base + r\"/data/raw/shape_files\"\n",
    "fp_input_file = data_dir + r\"/tl_2019_26_tract.shp\"\n",
    "\n",
    "# michigan_tracts=geopandas.read_file('documents/UofM/SIADS 591/tl_2019_26_tract.shp')\n",
    "\n",
    "michigan_tracts=geopandas.read_file(fp_input_file)\n",
    "michigan_tracts=michigan_tracts.to_crs('EPSG:2253')"
   ]
  },
  {
   "cell_type": "code",
   "execution_count": 73,
   "metadata": {},
   "outputs": [],
   "source": [
    "data_dir = base + r\"/data/municipalities\"\n",
    "fp_input_file = data_dir + r\"/All Municipalities Geometry Only.shp\"\n",
    "Municipalities=geopandas.read_file(fp_input_file)\n",
    "\n",
    "# Municipalities=geopandas.read_file('documents/UofM/SIADS 591/All Municipalities Geometry Only.shp')"
   ]
  },
  {
   "cell_type": "code",
   "execution_count": 100,
   "metadata": {},
   "outputs": [],
   "source": [
    "Municipalities_file_with_tract=geopandas.sjoin(Municipalities,michigan_tracts,how='inner',op='intersects')\n",
    "Municipalities_file_with_tract.loc[:,['COUNTYFP','TRACTCE']]=Municipalities_file_with_tract.loc[:,['COUNTYFP','TRACTCE']].astype(int)"
   ]
  },
  {
   "cell_type": "code",
   "execution_count": 101,
   "metadata": {},
   "outputs": [],
   "source": [
    "Municipalities_file_with_tract['GEOID']=Municipalities_file_with_tract['GEOID'].astype(int)"
   ]
  },
  {
   "cell_type": "markdown",
   "metadata": {},
   "source": [
    "## Read Opportunity Zone File and Merge with Tax File"
   ]
  },
  {
   "cell_type": "code",
   "execution_count": 191,
   "metadata": {},
   "outputs": [],
   "source": [
    "data_dir = base + r\"/data/raw\"\n",
    "fp_input_file = data_dir + r\"/Designated QOZs.12.14.18.csv\"\n",
    "\n",
    "# opportunity_zones=pd.read_csv('documents/UofM/SIADS 591/Designated QOZs.12.14.18.csv')\n",
    "\n",
    "opportunity_zones=pd.read_csv(fp_input_file)\n",
    "Municipalities_file_with_tract2=Municipalities_file_with_tract.merge(opportunity_zones,how='left',left_on='GEOID',right_on='Census Tract Number')\n",
    "Municipalities_file_with_tract2=Municipalities_file_with_tract2.loc[:,['ID','State']]\n",
    "Municipalities_file_with_tract2=Municipalities_file_with_tract2.rename(columns={'State':'oz_ind'})"
   ]
  },
  {
   "cell_type": "code",
   "execution_count": 196,
   "metadata": {},
   "outputs": [],
   "source": [
    "Municipalities_file_with_tract2['oz_ind']=Municipalities_file_with_tract2['oz_ind'].where(Municipalities_file_with_tract2['oz_ind'].isna(),3)\n",
    "Municipalities_file_with_tract2['oz_ind']=Municipalities_file_with_tract2['oz_ind'].where(Municipalities_file_with_tract2['oz_ind'].notna(),0)\n",
    "Municipalities_file_with_tract2=Municipalities_file_with_tract2.groupby('ID').agg('max').reset_index()"
   ]
  },
  {
   "cell_type": "code",
   "execution_count": 199,
   "metadata": {},
   "outputs": [],
   "source": [
    "data_dir = base + r\"/data\"\n",
    "fp_input_file = data_dir + r\"/Opportunity Zones.csv\"\n",
    "Municipalities_file_with_tract2.to_csv('documents/UofM/SIADS 591/Opportunity Zones.csv',index=False)\n",
    "\n",
    "# Municipalities_file_with_tract2.to_csv('documents/UofM/SIADS 591/Opportunity Zones.csv',index=False)"
   ]
  },
  {
   "cell_type": "code",
   "execution_count": null,
   "metadata": {},
   "outputs": [],
   "source": []
  }
 ],
 "metadata": {
  "kernelspec": {
   "display_name": "Python 3",
   "language": "python",
   "name": "python3"
  },
  "language_info": {
   "codemirror_mode": {
    "name": "ipython",
    "version": 3
   },
   "file_extension": ".py",
   "mimetype": "text/x-python",
   "name": "python",
   "nbconvert_exporter": "python",
   "pygments_lexer": "ipython3",
   "version": "3.8.5"
  }
 },
 "nbformat": 4,
 "nbformat_minor": 4
}
