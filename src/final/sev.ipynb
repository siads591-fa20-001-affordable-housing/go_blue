{
 "cells": [
  {
   "cell_type": "markdown",
   "metadata": {},
   "source": [
    "# University of Michigan\n",
    "## School of Information\n",
    "**Masters of Applied Data Science**<br>\n",
    "**Milestone 1**<br>\n",
    "<br>\n",
    "Affordable Housing Project\n",
    "<br><br>\n",
    "**Submitted by**<br>\n",
    ">Alan Fehsenfeld<br>Koon Leong Ho<br>George Thio"
   ]
  },
  {
   "cell_type": "markdown",
   "metadata": {},
   "source": [
    "# Get SEV from Corelogic File "
   ]
  },
  {
   "cell_type": "code",
   "execution_count": 23,
   "metadata": {},
   "outputs": [],
   "source": [
    "import pandas as pd\n",
    "import geopandas\n",
    "from config import basedir\n",
    "base = basedir()"
   ]
  },
  {
   "cell_type": "markdown",
   "metadata": {},
   "source": [
    "## Import Municipalities Recoreds and Corelogic Files"
   ]
  },
  {
   "cell_type": "code",
   "execution_count": 24,
   "metadata": {},
   "outputs": [
    {
     "name": "stderr",
     "output_type": "stream",
     "text": [
      "/Users/alanfehsenfeld/opt/anaconda3/lib/python3.8/site-packages/IPython/core/interactiveshell.py:3146: DtypeWarning: Columns (19) have mixed types.Specify dtype option on import or set low_memory=False.\n",
      "  has_raised = await self.run_ast_nodes(code_ast.body, cell_name,\n"
     ]
    }
   ],
   "source": [
    "data_dir = base + r\"/data/municipalities\"\n",
    "fp_input_file = data_dir + r\"/All Municipalities No Geometry.csv\"\n",
    "\n",
    "All_Municipalities=pd.read_csv(fp_input_file)\n",
    "\n",
    "# All_Municipalities=pd.read_csv('documents/UofM/SIADS 591/All Municipalities No Geometry.csv')\n",
    "\n",
    "fp_input_file = data_dir + r\"Taxdata.csv\"\n",
    "Tax_File=pd.read_csv('documents/UofM/SIADS 591/Taxdata.csv')\n",
    "\n",
    "# Tax_File=pd.read_csv('documents/UofM/SIADS 591/Taxdata.csv')"
   ]
  },
  {
   "cell_type": "markdown",
   "metadata": {},
   "source": [
    "## Merge Files and Export to CSV"
   ]
  },
  {
   "cell_type": "code",
   "execution_count": 25,
   "metadata": {},
   "outputs": [],
   "source": [
    "All_Municipalities=All_Municipalities.merge(Tax_File,how='left',left_on='PNUM',right_on='ORIGINAL APN')\n",
    "All_Municipalities=All_Municipalities.loc[:,['ID','TOTAL VALUE CALCULATED']]\n",
    "All_Municipalities=All_Municipalities.rename(columns={'TOTAL VALUE CALCULATED':'SEV'})"
   ]
  },
  {
   "cell_type": "code",
   "execution_count": 27,
   "metadata": {},
   "outputs": [],
   "source": [
    "data_dir = base + r\"/data\"\n",
    "fp_output_file = data_dir + r\"/SEV.csv'\"\n",
    "All_Municipalities.to_csv(fp_output_file,index=False)\n",
    "\n",
    "# All_Municipalities.to_csv('documents/UofM/SIADS 591/SEV.csv',index=False)"
   ]
  },
  {
   "cell_type": "code",
   "execution_count": null,
   "metadata": {},
   "outputs": [],
   "source": []
  }
 ],
 "metadata": {
  "kernelspec": {
   "display_name": "Python 3",
   "language": "python",
   "name": "python3"
  },
  "language_info": {
   "codemirror_mode": {
    "name": "ipython",
    "version": 3
   },
   "file_extension": ".py",
   "mimetype": "text/x-python",
   "name": "python",
   "nbconvert_exporter": "python",
   "pygments_lexer": "ipython3",
   "version": "3.8.5"
  }
 },
 "nbformat": 4,
 "nbformat_minor": 4
}
