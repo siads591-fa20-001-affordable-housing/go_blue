{
 "cells": [
  {
   "cell_type": "markdown",
   "metadata": {},
   "source": [
    "# University of Michigan\n",
    "## School of Information\n",
    "**Masters of Applied Data Science**<br>\n",
    "**Milestone 1**<br>\n",
    "<br>\n",
    "Affordable Housing Project\n",
    "<br><br>\n",
    "**Submitted by**<br>\n",
    ">Alan Fehsenfeld<br>Koon Leong Ho<br>George Thio"
   ]
  },
  {
   "cell_type": "markdown",
   "metadata": {},
   "source": [
    "# Calculate Transit Scores"
   ]
  },
  {
   "cell_type": "code",
   "execution_count": 9,
   "metadata": {},
   "outputs": [],
   "source": [
    "import pandas as pd\n",
    "import geopandas\n",
    "from config import basedir\n",
    "\n",
    "base = basedir()"
   ]
  },
  {
   "cell_type": "markdown",
   "metadata": {},
   "source": [
    "## Read Transit File"
   ]
  },
  {
   "cell_type": "code",
   "execution_count": 82,
   "metadata": {},
   "outputs": [],
   "source": [
    "fields_to_retain=['stop_id','stop_lat','stop_lon','transit_authority']\n",
    "\n",
    "data_dir = base + r\"/data/raw\"\n",
    "fp_input_file = data_dir + r\"/stops.txt\"\n",
    "\n",
    "# Grand_Rapids=pd.read_csv('documents/UofM/SIADS 591/GTFS Feeds/The Rapid/stops.txt')\n",
    "\n",
    "Grand_Rapids=pd.read_csv(fp_input_file)\n",
    "\n",
    "Grand_Rapids['transit_authority']=['The Rapid']*Grand_Rapids.shape[0]\n",
    "Grand_Rapids=Grand_Rapids[fields_to_retain]\n",
    "Grand_Rapids=geopandas.GeoDataFrame(Grand_Rapids,geometry=geopandas.points_from_xy(Grand_Rapids.loc[:,'stop_lon'],\\\n",
    "                                                                                  Grand_Rapids.loc[:,'stop_lat']))\n",
    "Grand_Rapids=Grand_Rapids.set_crs('WGS84')\n",
    "Grand_Rapids=Grand_Rapids.to_crs('EPSG:2253')\n",
    "Grand_Rapids_geo=Grand_Rapids.buffer(1760)\n",
    "Grand_Rapids.geometry=Grand_Rapids_geo"
   ]
  },
  {
   "cell_type": "code",
   "execution_count": 83,
   "metadata": {},
   "outputs": [],
   "source": [
    "data_dir = base + r\"/data/municipalities\"\n",
    "fp_input_file = data_dir + r\"All Municipalities Geometry Only.shp\"\n",
    "\n",
    "Municipalities_file=geopandas.read_file(fp_input_file)\n",
    "\n",
    "# Municipalities_file=geopandas.read_file('documents/UofM/SIADS 591/All Municipalities Geometry Only.shp')"
   ]
  },
  {
   "cell_type": "markdown",
   "metadata": {},
   "source": [
    "## Merge Transit File and Municipalities File"
   ]
  },
  {
   "cell_type": "code",
   "execution_count": 231,
   "metadata": {},
   "outputs": [],
   "source": [
    "transit=geopandas.sjoin(Grand_Rapids,Municipalities_file,how='right',op='intersects')\n",
    "transit=transit.loc[:,['ID','transit_authority']]"
   ]
  },
  {
   "cell_type": "code",
   "execution_count": 232,
   "metadata": {},
   "outputs": [],
   "source": [
    "transit['transit_authority']=transit['transit_authority'].where(transit['transit_authority'].isna(),5)\n",
    "transit['transit_authority']=transit['transit_authority'].where(transit['transit_authority'].notna(),0)\n"
   ]
  },
  {
   "cell_type": "code",
   "execution_count": 233,
   "metadata": {},
   "outputs": [],
   "source": [
    "transit=transit.groupby('ID').agg('max').reset_index()"
   ]
  },
  {
   "cell_type": "code",
   "execution_count": 234,
   "metadata": {},
   "outputs": [],
   "source": [
    "transit=transit.rename(columns={'transit_authority':'transit_ind'})"
   ]
  },
  {
   "cell_type": "code",
   "execution_count": 235,
   "metadata": {},
   "outputs": [],
   "source": [
    "data_dir = base + r\"/data\"\n",
    "fp_output_file = data_dir + r\"transit.csv\"\n",
    "\n",
    "transit.to_csv(fp_output_file,index=False)\n",
    "\n",
    "# transit.to_csv('documents/UofM/SIADS 591/transit.csv',index=False)"
   ]
  },
  {
   "cell_type": "code",
   "execution_count": null,
   "metadata": {},
   "outputs": [],
   "source": []
  }
 ],
 "metadata": {
  "kernelspec": {
   "display_name": "Python 3",
   "language": "python",
   "name": "python3"
  },
  "language_info": {
   "codemirror_mode": {
    "name": "ipython",
    "version": 3
   },
   "file_extension": ".py",
   "mimetype": "text/x-python",
   "name": "python",
   "nbconvert_exporter": "python",
   "pygments_lexer": "ipython3",
   "version": "3.8.5"
  }
 },
 "nbformat": 4,
 "nbformat_minor": 4
}
