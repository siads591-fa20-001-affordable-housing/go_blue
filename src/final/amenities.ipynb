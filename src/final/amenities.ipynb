{
 "cells": [
  {
   "cell_type": "markdown",
   "metadata": {},
   "source": [
    "# University of Michigan\n",
    "## School of Information\n",
    "**Masters of Applied Data Science**<br>\n",
    "**Milestone 1**<br>\n",
    "<br>\n",
    "Affordable Housing Project\n",
    "<br><br>\n",
    "**Submitted by**<br>\n",
    ">Alan Fehsenfeld<br>Koon Leong Ho<br>George Thio"
   ]
  },
  {
   "cell_type": "markdown",
   "metadata": {},
   "source": [
    "# Append Amenities Indicator to Municipality File Records"
   ]
  },
  {
   "cell_type": "markdown",
   "metadata": {},
   "source": [
    "## Import Modules"
   ]
  },
  {
   "cell_type": "code",
   "execution_count": 7,
   "metadata": {},
   "outputs": [
    {
     "data": {
      "text/plain": [
       "\"/Users/koonleong/Documents/UMMADS/SIADS591/project_git/go_blue/src/final/data/municipalities/All Municipalities Geometry Only.shp'\""
      ]
     },
     "execution_count": 7,
     "metadata": {},
     "output_type": "execute_result"
    }
   ],
   "source": [
    "from math import radians, cos, sin, asin, sqrt\n",
    "import pandas as pd\n",
    "import geopandas\n",
    "from config import basedir\n",
    "\n",
    "base = basedir()\n"
   ]
  },
  {
   "cell_type": "markdown",
   "metadata": {},
   "source": [
    "## Append Amenity Proximity to Municipality File"
   ]
  },
  {
   "cell_type": "code",
   "execution_count": 36,
   "metadata": {},
   "outputs": [],
   "source": [
    "def amenity_proximity(csv):\n",
    "    \"\"\"take csv file name as input, read amenities csv and All Municipalities Geometry Only csv, calculate distance from AMGO file data points\n",
    "    to all amenities and determine if AMGO file data points have amenity within one mile. Output dataframe with\n",
    "    Original APN and amenities within one mile indicator.\"\"\"\n",
    "    \n",
    "    # Setup the full name to the datafile\n",
    "    input_file = r\"/data/municipalities/All Municipalities Geometry Only.shp\"\n",
    "    fp_input_file = base + input_file\n",
    "\n",
    "#     The following line of code should be deleted after the revised read_file has been tested to be correct\n",
    "#     AMGO=geopandas.read_file('documents/UofM/SIADS 591/All Municipalities Geometry Only.shp')\n",
    "\n",
    "    AMGO=geopandas.read_file(fp_input_file)\n",
    "    AMGO_geo=AMGO.buffer(5280)\n",
    "    AMGO.geometry=AMGO_geo\n",
    "    \n",
    "    amenities=pd.read_csv(csv)\n",
    "    amenities=geopandas.GeoDataFrame(amenities,geometry=geopandas.points_from_xy(amenities.loc[:,'Long'],amenities.loc[:,'Lat']))\n",
    "    amenities=amenities.set_crs('WGS84')\n",
    "    amenities=amenities.to_crs('EPSG:2253')\n",
    "    \n",
    "    amenities=geopandas.sjoin(amenities,AMGO,how='right',op='intersects')\n",
    "    amenities=amenities.loc[:,['ID','index_left']]\n",
    "    amenities=amenities.rename(columns={'index_left':'amenities_ind'})\n",
    "    \n",
    "    amenities['amenities_ind']=amenities['amenities_ind'].where(amenities['amenities_ind'].isna(),1)\n",
    "    amenities['amenities_ind']=amenities['amenities_ind'].where(amenities['amenities_ind'].notna(),0)\n",
    "\n",
    "    amenities=amenities.groupby(['ID']).agg('max').reset_index()\n",
    "    \n",
    "    return(amenities)"
   ]
  },
  {
   "cell_type": "markdown",
   "metadata": {},
   "source": [
    "## Import Each Amenity File and Run the Amenity_Proximity Function on Them\n"
   ]
  },
  {
   "cell_type": "code",
   "execution_count": 40,
   "metadata": {},
   "outputs": [],
   "source": [
    "input_file = r\"/data/raw/groceries.csv\"\n",
    "output_file = r\"/data/groceries_ind.csv\"\n",
    "\n",
    "fp_input_file = base + input_file\n",
    "fp_output_file = base + output_file\n",
    "\n",
    "# to be deleted after testing\n",
    "# groceries_df=amenity_proximity('documents/UofM/SIADS 591/groceries.csv')\n",
    "# groceries_df.to_csv('documents/UofM/SIADS 591/groceries_ind.csv',index=False)\n",
    "\n",
    "groceries_df=amenity_proximity(fp_input_file)\n",
    "groceries_df.to_csv(fp_output_file,index=False)"
   ]
  },
  {
   "cell_type": "code",
   "execution_count": 41,
   "metadata": {},
   "outputs": [],
   "source": [
    "input_file = r\"/data/raw/pharmacies.csv\"\n",
    "output_file = r\"/data/pharmacies_ind.csv\"\n",
    "\n",
    "fp_input_file = base + input_file\n",
    "fp_output_file = base + output_file\n",
    "\n",
    "# to be deleted after testing\n",
    "# pharmacies_df=amenity_proximity('documents/UofM/SIADS 591/pharmacies.csv')\n",
    "# pharmacies_df.to_csv('documents/UofM/SIADS 591/pharmacies_ind.csv',index=False)\n",
    "\n",
    "pharmacies_df=amenity_proximity(fp_input_file)\n",
    "pharmacies_df.to_csv(fp_output_file,index=False)"
   ]
  },
  {
   "cell_type": "code",
   "execution_count": 42,
   "metadata": {},
   "outputs": [],
   "source": [
    "input_file = r\"/data/raw/doctors.csv\"\n",
    "output_file = r\"/data/doctors_ind.csv\"\n",
    "\n",
    "fp_input_file = base + input_file\n",
    "fp_output_file = base + output_file\n",
    "\n",
    "# to be deleted after testing\n",
    "# doctors_df=amenity_proximity('documents/UofM/SIADS 591/doctors.csv')\n",
    "# doctors_df.to_csv('documents/UofM/SIADS 591/doctors_ind.csv',index=False)\n",
    "\n",
    "doctors_df=amenity_proximity(fp_input_file)\n",
    "doctors_df.to_csv(fp_output_file,index=False)"
   ]
  },
  {
   "cell_type": "code",
   "execution_count": 43,
   "metadata": {},
   "outputs": [],
   "source": [
    "input_file = r\"/data/raw/parks.csv\"\n",
    "output_file = r\"/data/parks_ind.csv\"\n",
    "\n",
    "fp_input_file = base + input_file\n",
    "fp_output_file = base + output_file\n",
    "\n",
    "# to be deleted after testing\n",
    "# parks_df=amenity_proximity('documents/UofM/SIADS 591/parks.csv')\n",
    "# parks_df.to_csv('documents/UofM/SIADS 591/parks_ind.csv',index=False)\n",
    "\n",
    "parks_df=amenity_proximity('documents/UofM/SIADS 591/parks.csv')\n",
    "parks_df.to_csv('documents/UofM/SIADS 591/parks_ind.csv',index=False)"
   ]
  },
  {
   "cell_type": "code",
   "execution_count": 44,
   "metadata": {},
   "outputs": [],
   "source": [
    "input_file = r\"/data/raw/schools.csv\"\n",
    "output_file = r\"/data/schools_ind.csv\"\n",
    "\n",
    "fp_input_file = base + input_file\n",
    "fp_output_file = base + output_file\n",
    "\n",
    "\n",
    "# schools_df=amenity_proximity('documents/UofM/SIADS 591/schools.csv')\n",
    "# schools_df.to_csv('documents/UofM/SIADS 591/schools_ind.csv',index=False)\n",
    "\n",
    "schools_df=amenity_proximity(fp_input_file)\n",
    "schools_df.to_csv(fp_output_file,index=False)\n"
   ]
  },
  {
   "cell_type": "markdown",
   "metadata": {},
   "source": [
    "## Put Together the Amenity Files and Calculate MSHDA Score"
   ]
  },
  {
   "cell_type": "code",
   "execution_count": 46,
   "metadata": {},
   "outputs": [],
   "source": [
    "groceries_ind=groceries_df.loc[:,'amenities_ind']\n",
    "pharmacies_ind=pharmacies_df.loc[:,'amenities_ind']\n",
    "doctors_ind=doctors_df.loc[:,'amenities_ind']\n",
    "parks_ind=parks_df.loc[:,'amenities_ind']\n",
    "schools_ind=schools_df.loc[:,'amenities_ind']\n",
    "\n",
    "amenities=groceries_ind+pharmacies_ind+doctors_ind+parks_ind+schools_ind\n",
    "\n",
    "amenities_df=pd.DataFrame({'ID':groceries_df.loc[:,'ID'],'amenities_ind':amenities})"
   ]
  },
  {
   "cell_type": "code",
   "execution_count": 48,
   "metadata": {},
   "outputs": [],
   "source": [
    "amenities=pd.DataFrame(amenities_df.loc[:,'amenities_ind'])\n",
    "amenities=amenities.where(amenities!=5,4)\n",
    "amenities_df.loc[:,'amenities_ind']=amenities\n"
   ]
  },
  {
   "cell_type": "code",
   "execution_count": null,
   "metadata": {},
   "outputs": [],
   "source": [
    "output_file = r\"/data/schools_ind.csv\"\n",
    "fp_output_file = base + output_file\n",
    "\n",
    "# to be deleted after testing\n",
    "# amenities_df.to_csv('documents/UofM/SIADS 591/Amenities.csv',index=False)\n",
    "\n",
    "amenities_df.to_csv(fp_output_file,index=False)"
   ]
  }
 ],
 "metadata": {
  "kernelspec": {
   "display_name": "Python 3",
   "language": "python",
   "name": "python3"
  },
  "language_info": {
   "codemirror_mode": {
    "name": "ipython",
    "version": 3
   },
   "file_extension": ".py",
   "mimetype": "text/x-python",
   "name": "python",
   "nbconvert_exporter": "python",
   "pygments_lexer": "ipython3",
   "version": "3.8.5"
  }
 },
 "nbformat": 4,
 "nbformat_minor": 4
}
