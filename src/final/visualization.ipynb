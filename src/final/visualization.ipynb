{
 "cells": [
  {
   "cell_type": "markdown",
   "metadata": {},
   "source": [
    "# University of Michigan\n",
    "## School of Information\n",
    "**Masters of Applied Data Science**<br>\n",
    "**Milestone 1**<br>\n",
    "<br>\n",
    "Affordable Housing Project\n",
    "<br><br>\n",
    "**Submitted by**<br>\n",
    ">Alan Fehsenfeld<br>Koon Leong Ho<br>George Thio"
   ]
  },
  {
   "cell_type": "markdown",
   "metadata": {},
   "source": [
    "**Data Visualization**\n",
    "\n",
    "This Jupyter notebooks produced the visualizations used int he Project Report."
   ]
  },
  {
   "cell_type": "code",
   "execution_count": 7,
   "metadata": {},
   "outputs": [],
   "source": [
    "# Import all the libraries used in the visualizations\n",
    "\n",
    "import pandas as pd\n",
    "import numpy as np\n",
    "import geopandas\n",
    "import plotly.express as px\n",
    "import matplotlib.pyplot as plt\n",
    "import seaborn as sns\n",
    "import warnings\n",
    "import os\n",
    "\n",
    "# Set some key parameters of the libraries used\n",
    "warnings.filterwarnings('ignore')\n",
    "pd.set_option('display.max_rows', 500)\n",
    "pd.set_option('display.max_columns', 500)\n",
    "\n",
    "# Set key constants used in the visualization routines\n",
    "directory=os.getcwd()\n",
    "properties_data=r'/data/SIADS591_property.pkl'\n",
    "properties_shp_file = r'/data/municipalities/All Municipalities Geometry and Municipality.shp'\n",
    "fulton = directory + r'/fulton.html'\n",
    "preston = directory + r'/preston.html'"
   ]
  },
  {
   "cell_type": "markdown",
   "metadata": {},
   "source": [
    "#### Geospatial data\n",
    "These are shapefiles for all the parcels in Kent County.  The data are provided by Kent County by cities and townships.  These were merged into one set of files for the entire county.\n",
    "\n",
    "The source data geographical information uses \"NAD83 State Plane Michigan South (International Feet)\" projection.  This will be converted into \"latitude and longitude coordinates on the WGS84 reference ellipsoid\" projection.\n",
    "\n",
    "Source: https://www.accesskent.com/GISLibrary/"
   ]
  },
  {
   "cell_type": "code",
   "execution_count": 2,
   "metadata": {},
   "outputs": [],
   "source": [
    "# Read the shapefiles data to be used for the chloropleth map plots\n",
    "GRParcelsUnit=geopandas.read_file(directory + properties_shp_file)\n",
    "\n",
    "# convert into latitude/longitude coordinates\n",
    "GRParcelsUnit=GRParcelsUnit.to_crs('EPSG:4326')\n",
    "unit_geodf=GRParcelsUnit.__geo_interface__\n"
   ]
  },
  {
   "cell_type": "code",
   "execution_count": 3,
   "metadata": {},
   "outputs": [],
   "source": [
    "# Read in the pickle file containing the attribute of each plot in Kent County\n",
    "unit_df=pd.read_pickle(directory + properties_data)\n",
    "unit_df=unit_df.sort_values(by = ['City'], ascending = False)"
   ]
  },
  {
   "cell_type": "markdown",
   "metadata": {},
   "source": [
    "#### Heatmap\n",
    "The entire geospatial data has about 240,000 entries.  Two density heapmaps will be plotted:\n",
    "\n",
    "Plot #1 - This shows the total number of properties of each MSHDA Score in each city.  The darker the color scale, the higher the number of properties with the MSHDA Score.\n",
    "\n",
    "Plot #2 - This shows the percentage of properties within each city that has that MSHDA Score.  The sum of the percentages within each city will add up to 100%.\n"
   ]
  },
  {
   "cell_type": "code",
   "execution_count": null,
   "metadata": {},
   "outputs": [],
   "source": [
    "# Preparing the data for the heatmaps\n",
    "summary_df = unit_df[['City','MSHDA Score', 'Percent']].copy(deep = True)\n",
    "summary_df = summary_df.groupby(['City', 'MSHDA Score']).agg({'Percent': 'sum'}).reset_index(drop=False)\n"
   ]
  },
  {
   "cell_type": "code",
   "execution_count": null,
   "metadata": {},
   "outputs": [],
   "source": [
    "heatmap1 = px.density_heatmap(unit_df, x=\"MSHDA Score\", y=\"City\", \n",
    "                             title = \"Distribution of MSHDA Score within Kent Count\",\n",
    "                             histfunc = \"count\",\n",
    "                             color_continuous_scale=\"Greys\",\n",
    "                             width=900, height=900\n",
    "                            )\n",
    "heatmap1.show()"
   ]
  },
  {
   "cell_type": "code",
   "execution_count": null,
   "metadata": {},
   "outputs": [],
   "source": [
    "heatmap2 = px.density_heatmap(unit_df, x=\"MSHDA Score\", y=\"City\", z=\"Percent\",\n",
    "                             title = \"Distribution of MSHDA Score (in Percent) within each City\",\n",
    "                             histfunc = \"sum\",\n",
    "                             labels = {\"Percent\": \"%\"},\n",
    "                             facet_row_spacing = 0.3,\n",
    "                             facet_col_spacing = 0.3,\n",
    "                             color_continuous_scale=\"Mint\",\n",
    "                             width=900, height=900\n",
    "                            )\n",
    "heatmap2.show()"
   ]
  },
  {
   "cell_type": "markdown",
   "metadata": {},
   "source": [
    "### Scatter Plot Matrix\n",
    "The Scatter Plot Matrix (aka SPLOM) shows the relationship between the variables.  Three variables will be explored in this plot:\n",
    "\n",
    "> a. Size of the property<br>\n",
    "> b. Estimated cost per Acre (based on SEV)<br>\n",
    "> c. MSHDA Score<br>\n"
   ]
  },
  {
   "cell_type": "code",
   "execution_count": null,
   "metadata": {
    "scrolled": true
   },
   "outputs": [],
   "source": [
    "# Extract the features need for the SPLOM\n",
    "splom_df = unit_df.loc[:,['City', 'Acres', 'MSHDA Score', 'Per Arce']].copy()\n",
    "\n",
    "# Set the variables with the limits of the features to exclude the outliers to\n",
    "# avoid distorting the plot\n",
    "\n",
    "# sets the limit of the estimated value of the property used by the government to determine the property tax\n",
    "sev_upper_limit = 5000000\n",
    "\n",
    "# sets the upper limit to SEV cost per acre\n",
    "per_acre_upper_limit = 500000\n",
    "\n",
    "# sets the upper limit of the size of each property\n",
    "acre_upper_limit = 50\n",
    "\n",
    "# sets the lower limit of data to be included.   It it is \"0\", no property will be elimiated from the SPLOM\n",
    "# on the basis of the MSHDA Score\n",
    "min_score = 0\n",
    "\n",
    "# these limits are recognized as the ideal plot size for low cost housing developemnts\n",
    "ideal_lower_limit = 1\n",
    "ideal_upper_limit = 10\n",
    "\n",
    "\n",
    "# Filter the data based on the limits set.\n",
    "\n",
    "# Remove outliers based on the SEV per Acre limits\n",
    "per_acre_limit = (splom_df['Per Arce'] < per_acre_upper_limit)\n",
    "splom_df = splom_df[per_acre_limit]\n",
    "\n",
    "# Remove outliers based on the size per property\n",
    "acre_limit = splom_df.Acres < acre_upper_limit\n",
    "splom_df = splom_df[acre_limit]\n",
    "\n",
    "# Remove outliers based on the MSHDA Score\n",
    "MSHDA_limit = splom_df['MSHDA Score'] >= min_score\n",
    "splom_df = splom_df[MSHDA_limit]\n",
    "\n",
    "# Categorize the plot size into Small, Ideal, and Large\n",
    "splom_df['Size']=\"\"\n",
    "splom_df.loc[splom_df.Acres < ideal_lower_limit, ['Size']]=\"Small\"\n",
    "splom_df.loc[splom_df.Acres > ideal_upper_limit, ['Size']]=\"Large\"\n",
    "ideal = (splom_df.Acres >= ideal_lower_limit) & (splom_df.Acres <= ideal_upper_limit)\n",
    "splom_df.loc[ideal, ['Size']]=\"Ideal\"\n"
   ]
  },
  {
   "cell_type": "code",
   "execution_count": null,
   "metadata": {},
   "outputs": [],
   "source": [
    "import seaborn as sns\n",
    "import matplotlib.pyplot as plt\n",
    "sns.set_theme(style=\"whitegrid\")\n",
    "\n",
    "plt.figure(figsize=(8000, 8000))\n",
    "\n",
    "sns.set_theme(style=\"ticks\")\n",
    "sns.pairplot(splom_df,\n",
    "             hue_order = ['Small', 'Ideal', 'Large'],\n",
    "             palette = {'Small': 'gainsboro', 'Ideal': 'r', 'Large': 'powderblue'},\n",
    "             hue = 'Size',\n",
    "             diag_kind = 'kde',\n",
    "             height = 4,\n",
    "             corner = True\n",
    "            )\n",
    "plt.suptitle('Scatter Plot Matrix of plot size, MSHDA Score, and Per Acre cost')\n",
    "sns.despine()\n"
   ]
  },
  {
   "cell_type": "markdown",
   "metadata": {},
   "source": [
    "### Examples\n",
    "Two properties were selected to demonstrate how the tool can be used.\n",
    "<br><br>\n",
    ">The first is a property that has a high MSHDA Score and should be a candidate for Low Cost Housing Development.  It is, in fact, an actual property that was accepted by MSHDA.\n",
    "<br><br>\n",
    ">The second property featured has a low MSHDA Score and was not selected for development into Low Cost Housing."
   ]
  },
  {
   "cell_type": "code",
   "execution_count": null,
   "metadata": {},
   "outputs": [],
   "source": [
    "# print the data for 1450 Fulton St E, Grand Rapids, MI 49503\n",
    "#\n",
    "city_of_interest = r'GRAND RAPIDS'\n",
    "target_apn = '41-14-29-426-036'\n",
    "rows_buffer = 2\n",
    "\n",
    "city_df = unit_df.loc[(unit_df.City == city_of_interest), \n",
    "                              ['MSHDA Score', 'APN', 'Address', 'City', \n",
    "                               'Zip_Code', 'Zip_Code']]. \\\n",
    "                               sort_values(by=['MSHDA Score', 'APN'], ascending = True).set_index('APN')\n",
    "idx = city_df.index.get_loc(target_apn)\n",
    "city_df.iloc[idx - rows_buffer: idx + rows_buffer+1]"
   ]
  },
  {
   "cell_type": "code",
   "execution_count": null,
   "metadata": {},
   "outputs": [],
   "source": [
    "# print the data for 1422 Preston Ridge St NW, Grand Rapids mi 49504\n",
    "#\n",
    "city_of_interest = r'GRAND RAPIDS'\n",
    "target_apn = '41-13-14-127-021'\n",
    "rows_buffer = 2\n",
    "\n",
    "grand_rapids_df = unit_df.loc[(unit_df.City == city_of_interest), \n",
    "                              ['MSHDA Score', 'APN', 'Address', 'City', \n",
    "                               'Zip_Code', 'Zip_Code']]. \\\n",
    "                               sort_values(by=['MSHDA Score', 'APN'], ascending = True).set_index('APN')\n",
    "idx = grand_rapids_df.index.get_loc(target_apn)\n",
    "grand_rapids_df.iloc[idx - rows_buffer: idx + rows_buffer+1]"
   ]
  },
  {
   "cell_type": "markdown",
   "metadata": {},
   "source": [
    "### Density Cholopleth Map Plots\n",
    "This is a plot of all the properties in a specific city.  This is defined in the variable \"city_of_interest.\"  This must match exactly the name of the City in the data file.  Note that the City names are in ALL CAPITAL letters.\n",
    "<br><br>\n",
    "The plot may fail if the size of the RAM available in the system used is insufficient.  It does take some time to complete the processing for the plot."
   ]
  },
  {
   "cell_type": "code",
   "execution_count": 5,
   "metadata": {},
   "outputs": [],
   "source": [
    "# Define the city of interest and extract the data that is to be plotted.  Only features of relevance to the \n",
    "# visualization will be used.  \n",
    "\n",
    "city_of_interest = r'GRAND RAPIDS'\n",
    "map_df = unit_df.loc[unit_df.City == city_of_interest, ['ID', 'MSHDA Score', 'APN', 'Address', 'City', \n",
    "                                                        'Zip_Code', 'SEV', 'Acres']]\n"
   ]
  },
  {
   "cell_type": "code",
   "execution_count": 8,
   "metadata": {
    "scrolled": true
   },
   "outputs": [],
   "source": [
    "# POSITIVE Exmaple\n",
    "# Plot map and locality for\n",
    "# 1450 Fulton St E, Grand Rapids, 49503\n",
    "# lat/lon of unit extracted from map.google.com\n",
    "\n",
    "map_center = {'lat': 42.96241, 'lon': -85.63842}\n",
    "zoom = 15\n",
    "\n",
    "fig=px.choropleth_mapbox(map_df, geojson=unit_geodf, color='MSHDA Score', locations='ID', \n",
    "                         featureidkey='properties.ID', \n",
    "                         center= map_center, mapbox_style=\"carto-positron\", \n",
    "                         zoom=zoom, hover_data=['MSHDA Score', 'APN', 'Address', \n",
    "                                                'City', 'Zip_Code', 'SEV', 'Acres']\n",
    "                        )\n",
    "\n",
    "fig.update_layout(margin={'r':0,'t':0,'l':0,'b':0})\n",
    "fig.write_html(fulton)"
   ]
  },
  {
   "cell_type": "code",
   "execution_count": 9,
   "metadata": {},
   "outputs": [],
   "source": [
    "# NEGATIVE Exmaple\n",
    "# Plot map and locality for\n",
    "# 1422 Preston Ridge NW, Grand Rapids, 49504\n",
    "# lat/lon of unit extracted from map.google.com\n",
    "\n",
    "map_center = {'lat': 42.99729, 'lon': -85.70190}\n",
    "zoom = 15\n",
    "\n",
    "fig=px.choropleth_mapbox(map_df, geojson=unit_geodf, color='MSHDA Score', locations='ID', \n",
    "                         featureidkey='properties.ID', \n",
    "                         center= map_center, mapbox_style=\"carto-positron\", \n",
    "                         zoom=zoom, hover_data=['MSHDA Score', 'APN', 'Address', \n",
    "                                                'City', 'Zip_Code', 'SEV', 'Acres']\n",
    "                        )\n",
    "\n",
    "fig.update_layout(margin={'r':0,'t':0,'l':0,'b':0})\n",
    "fig.write_html(preston)"
   ]
  },
  {
   "cell_type": "code",
   "execution_count": null,
   "metadata": {},
   "outputs": [],
   "source": []
  }
 ],
 "metadata": {
  "kernelspec": {
   "display_name": "Python 3",
   "language": "python",
   "name": "python3"
  },
  "language_info": {
   "codemirror_mode": {
    "name": "ipython",
    "version": 3
   },
   "file_extension": ".py",
   "mimetype": "text/x-python",
   "name": "python",
   "nbconvert_exporter": "python",
   "pygments_lexer": "ipython3",
   "version": "3.8.5"
  }
 },
 "nbformat": 4,
 "nbformat_minor": 4
}
