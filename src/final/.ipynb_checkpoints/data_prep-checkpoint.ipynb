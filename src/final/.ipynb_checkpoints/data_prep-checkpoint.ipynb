{
 "cells": [
  {
   "cell_type": "code",
   "execution_count": null,
   "metadata": {},
   "outputs": [],
   "source": [
    "import sqlalchem\n",
    "import pandas as pd\n",
    "\n",
    "import geopandas\n",
    "import plotly.express as px\n",
    "import numpy as np\n",
    "import matplotlib.pyplot as plt\n",
    "import seaborn as sns\n",
    "import warnings\n",
    "warnings.filterwarnings('ignore')\n",
    "directory= r'/Users/koonleong/Documents/UMMADS/SIADS591/project_git/go_blue/src/alan'"
   ]
  },
  {
   "cell_type": "code",
   "execution_count": null,
   "metadata": {},
   "outputs": [],
   "source": [
    "GRParcels=geopandas.read_file(directory + \n",
    "                              r'/All Municipalities Geometry and Municipality.geojson/All Municipalities Geometry and Municipality.shp')\n",
    "GRParcels=GRParcels.to_crs('EPSG:4326')\n",
    "GRParcels=GRParcels.__geo_interface__\n"
   ]
  },
  {
   "cell_type": "code",
   "execution_count": null,
   "metadata": {},
   "outputs": [],
   "source": [
    "Property_Level=pd.read_csv(directory + r'/property_level.csv')\n"
   ]
  },
  {
   "cell_type": "code",
   "execution_count": null,
   "metadata": {},
   "outputs": [],
   "source": [
    "fig=px.choropleth_mapbox(Property_Level,geojson=GRParcels,color='MSHDA Score',\\\n",
    "                        locations='ID',featureidkey='properties.ID',\\\n",
    "                        center={'lat':42.9634,'lon':-85.6681},\n",
    "                        mapbox_style=\"carto-positron\", zoom=15,\n",
    "                        hover_data=['Address','City','Acres','SEV'])\n",
    "fig.update_layout(margin={'r':0,'t':0,'l':0,'b':0})\n",
    "fig.show()"
   ]
  },
  {
   "cell_type": "code",
   "execution_count": null,
   "metadata": {},
   "outputs": [],
   "source": [
    "GRParcels=geopandas.read_file(pd.read_csv(directory + r'/Block Group Summary/Block_Group_Summary.shp')\n",
    "GRParcels=GRParcels.to_crs('EPSG:4326')\n",
    "GRParcels=GRParcels.__geo_interface__\n",
    "Block_Property_Level=pd.read_csv(directory + r'/Block_Group_Summary.csv')"
   ]
  },
  {
   "cell_type": "code",
   "execution_count": null,
   "metadata": {},
   "outputs": [],
   "source": [
    "fig=px.choropleth_mapbox(Block_Property_Level,geojson=GRParcels,color='MSHDA Score',\\\n",
    "                        locations='block_group',featureidkey='properties.GEOID',\\\n",
    "                        center={'lat':42.9634,'lon':-85.6681},\n",
    "                        mapbox_style=\"carto-positron\", zoom=8,\n",
    "                        hover_)\n",
    "fig.update_layout(margin={'r':0,'t':0,'l':0,'b':0})\n",
    "fig.show()"
   ]
  },
  {
   "cell_type": "code",
   "execution_count": null,
   "metadata": {},
   "outputs": [],
   "source": [
    "plot_df = Property_Level.loc[:,['City', 'MSHDA Score']]\n",
    "plot_df['City'] = plot_df['City'].str.upper()\n"
   ]
  },
  {
   "cell_type": "code",
   "execution_count": null,
   "metadata": {},
   "outputs": [],
   "source": [
    "heatmap = px.density_heatmap(plot_df, x=\"MSHDA Score\", y=\"City\",\n",
    "                             facet_row_spacing = 0.3,\n",
    "                             facet_col_spacing = 0.3,\n",
    "                             color_continuous_scale=\"RdYlGn\",\n",
    "                             width=800, height=800\n",
    "                            )\n",
    "heatmap.show()"
   ]
  },
  {
   "cell_type": "code",
   "execution_count": null,
   "metadata": {},
   "outputs": [],
   "source": [
    "splom_df = Property_Level.loc[:,[\"MSHDA Score\", \"Acres\", \"SEV\"]]\n",
    "\n",
    "sev_limit = splom_df.SEV<5000000\n",
    "splom_df = splom_df[sev_limit]\n",
    "splom_df[\"Per Acre\"] = splom_df[\"SEV\"]/splom_df[\"Acres\"]\n",
    "\n",
    "per_acre_limit = splom_df[\"Per Acre\"] < 500000\n",
    "splom_df = splom_df[per_acre_limit]\n",
    "\n",
    "acre_limit = splom_df.Acres < 50\n",
    "splom_df = splom_df[acre_limit]\n",
    "\n",
    "SEV_limit = splom_df.SEV < 5000000\n",
    "splom_df = splom_df[SEV_limit]\n",
    "\n",
    "MSHDA_limit = splom_df['MSHDA Score'] > 0\n",
    "splom_df = splom_df[MSHDA_limit]\n",
    "\n",
    "splom_df['Size']=\"\"\n",
    "\n",
    "lower_limit = 1\n",
    "splom_df.loc[splom_df.Acres < lower_limit, ['Size']]=\"Small\"\n",
    "\n",
    "upper_limit = 10\n",
    "splom_df.loc[splom_df.Acres > upper_limit, ['Size']]=\"Large\"\n",
    "\n",
    "ideal = (splom_df.Acres >= lower_limit) & (splom_df.Acres <= upper_limit)\n",
    "splom_df.loc[ideal, ['Size']]=\"Ideal\"\n"
   ]
  },
  {
   "cell_type": "code",
   "execution_count": null,
   "metadata": {
    "scrolled": false
   },
   "outputs": [],
   "source": [
    "plt.figure(figsize=(8000, 8000))\n",
    "sns.set_theme(style=\"ticks\")\n",
    "sns.pairplot(splom_df.loc[:,['MSHDA Score', 'Acres', 'Per Acre', 'Size']],\n",
    "             hue_order = ['Small', 'Ideal', 'Large'],\n",
    "             palette = {'Small': 'gainsboro', 'Ideal': 'r', 'Large': 'powderblue'},\n",
    "             hue = 'Size',\n",
    "             diag_kind = 'kde',\n",
    "             height = 4,\n",
    "             corner = True\n",
    "            )\n",
    "sns.despine()\n"
   ]
  },
  {
   "cell_type": "code",
   "execution_count": null,
   "metadata": {},
   "outputs": [],
   "source": [
    "import seaborn as sns\n",
    "import matplotlib.pyplot as plt\n",
    "sns.set_theme(style=\"whitegrid\")\n",
    "\n",
    "\n",
    "# Draw a scatter plot while assigning point colors and sizes to different\n",
    "# variables in the dataset\n",
    "f, ax = plt.subplots(figsize=(14, 14))\n",
    "sns.despine(f, left=True, bottom=True)\n",
    "sns.scatterplot(x=\"MSHDA Score\", y=\"Per Acre\",\n",
    "                hue=\"Size\",\n",
    "                palette = {'Small': 'gainsboro', 'Ideal': 'r', 'Large': 'powderblue'},\n",
    "                hue_order = ['Small', 'Ideal', 'Large'],\n",
    "                linewidth=0,\n",
    "                data=splom_df.loc[:,['MSHDA Score', 'Acres', 'Per Acre', 'Size']], ax=ax)"
   ]
  },
  {
   "cell_type": "code",
   "execution_count": null,
   "metadata": {},
   "outputs": [],
   "source": []
  }
 ],
 "metadata": {
  "kernelspec": {
   "display_name": "Python 3",
   "language": "python",
   "name": "python3"
  },
  "language_info": {
   "codemirror_mode": {
    "name": "ipython",
    "version": 3
   },
   "file_extension": ".py",
   "mimetype": "text/x-python",
   "name": "python",
   "nbconvert_exporter": "python",
   "pygments_lexer": "ipython3",
   "version": "3.8.5"
  }
 },
 "nbformat": 4,
 "nbformat_minor": 4
}
