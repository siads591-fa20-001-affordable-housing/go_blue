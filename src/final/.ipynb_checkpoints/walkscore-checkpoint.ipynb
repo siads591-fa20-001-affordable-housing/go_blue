{
 "cells": [
  {
   "cell_type": "markdown",
   "metadata": {},
   "source": [
    "# University of Michigan\n",
    "## School of Information\n",
    "**Masters of Applied Data Science**<br>\n",
    "**Milestone 1**<br>\n",
    "<br>\n",
    "Affordable Housing Project\n",
    "<br><br>\n",
    "**Submitted by**<br>\n",
    ">Alan Fehsenfeld<br>Koon Leong Ho<br>George Thio"
   ]
  },
  {
   "cell_type": "markdown",
   "metadata": {},
   "source": [
    "# Add Walkscore Score to Municipality File"
   ]
  },
  {
   "cell_type": "code",
   "execution_count": 2,
   "metadata": {},
   "outputs": [],
   "source": [
    "import pandas as pd\n",
    "import numpy as np\n",
    "import geopandas\n",
    "from collections import Counter\n",
    "import requests\n",
    "import time\n",
    "from config input basedir\n",
    "base = basedir()"
   ]
  },
  {
   "cell_type": "markdown",
   "metadata": {},
   "source": [
    "## Import Block Walkscore File and Code by Looking up API Values"
   ]
  },
  {
   "cell_type": "code",
   "execution_count": 3,
   "metadata": {},
   "outputs": [
    {
     "data": {
      "text/html": [
       "<div>\n",
       "<style scoped>\n",
       "    .dataframe tbody tr th:only-of-type {\n",
       "        vertical-align: middle;\n",
       "    }\n",
       "\n",
       "    .dataframe tbody tr th {\n",
       "        vertical-align: top;\n",
       "    }\n",
       "\n",
       "    .dataframe thead th {\n",
       "        text-align: right;\n",
       "    }\n",
       "</style>\n",
       "<table border=\"1\" class=\"dataframe\">\n",
       "  <thead>\n",
       "    <tr style=\"text-align: right;\">\n",
       "      <th></th>\n",
       "      <th>Unnamed: 0</th>\n",
       "      <th>GEOID_BLOCK</th>\n",
       "      <th>INTPTLAT_BLOCK</th>\n",
       "      <th>INTPTLON_BLOCK</th>\n",
       "      <th>walkscore</th>\n",
       "      <th>walkscore_ind</th>\n",
       "    </tr>\n",
       "  </thead>\n",
       "  <tbody>\n",
       "  </tbody>\n",
       "</table>\n",
       "</div>"
      ],
      "text/plain": [
       "Empty DataFrame\n",
       "Columns: [Unnamed: 0, GEOID_BLOCK, INTPTLAT_BLOCK, INTPTLON_BLOCK, walkscore, walkscore_ind]\n",
       "Index: []"
      ]
     },
     "execution_count": 3,
     "metadata": {},
     "output_type": "execute_result"
    }
   ],
   "source": [
    "data_dir = base + r\"/data\"\n",
    "fp_input_file = data_dir + r\"/block_walkscores.csv\"\n",
    "\n",
    "# block_geocodes=pd.read_csv('documents/UofM/SIADS 591/block_walkscores.csv')\n",
    "\n",
    "block_geocodes=pd.read_csv(fp_input_file)\n",
    "block_geocodes_for_processing=block_geocodes[block_geocodes.walkscore_ind==0]\n",
    "block_geocodes_for_processing"
   ]
  },
  {
   "cell_type": "code",
   "execution_count": null,
   "metadata": {},
   "outputs": [],
   "source": [
    "walkscore_list=[]\n",
    "\n",
    "for x in block_geocodes_for_processing.index:\n",
    "    latitude=str(round(block_geocodes_for_processing.loc[x,'INTPTLAT_BLOCK'],4))\n",
    "    longitude=str(round(block_geocodes_for_processing.loc[x,'INTPTLON_BLOCK'],4))\n",
    "    response=requests.get('https://api.walkscore.com/score?format=json&lat='+latitude+'&lon='+longitude+'&transit=1&bike=1&wsapikey=c6b0ec0b6dd9e4253db963d7a8ad1365')\n",
    "    try:\n",
    "        walkscore_list.append(response.json()['walkscore'])\n",
    "        print(str(x)+' - ',str(response.json()['walkscore']))\n",
    "    except KeyError:\n",
    "        walkscore_list.append(-1)\n",
    "        print(str(x)+' - '+str(-1))\n",
    "    time.sleep(1)\n",
    "    \n",
    "    \n",
    "response"
   ]
  },
  {
   "cell_type": "markdown",
   "metadata": {},
   "source": [
    "## Add Lookup Values to Walkscore Table and Export Walkscore Table\n"
   ]
  },
  {
   "cell_type": "code",
   "execution_count": null,
   "metadata": {},
   "outputs": [],
   "source": [
    "previously_processed_records=block_geocodes[block_geocodes.walkscore_ind==1]\n",
    "previously_processed_walkscores=list(previously_processed_records.walkscore.values)\n",
    "walkscore_list_for_update=previously_processed_walkscores+walkscore_list+list(np.zeros(block_geocodes_for_processing.shape[0]-len(walkscore_list)))\n",
    "block_geocodes['walkscore']=walkscore_list_for_update"
   ]
  },
  {
   "cell_type": "code",
   "execution_count": null,
   "metadata": {},
   "outputs": [],
   "source": [
    "items_processed_count=len(walkscore_list)+previously_processed_records.shape[0]\n",
    "walkscore_ind=list(np.ones(items_processed_count))+list(np.zeros(block_geocodes.shape[0]-items_processed_count))\n",
    "block_geocodes['walkscore_ind']=walkscore_ind\n",
    "block_geocodes.columns"
   ]
  },
  {
   "cell_type": "code",
   "execution_count": 184,
   "metadata": {},
   "outputs": [],
   "source": [
    "block_geocodes=block_geocodes.loc[:,['GEOID_BLOCK','INTPTLAT_BLOCK','INTPTLON_BLOCK','walkscore','walkscore_ind']]\n",
    "\n",
    "data_dir = base + r\"/data\"\n",
    "fp_output_file = data_dir + r\"/block_walkscores.csv\"\n",
    "block_geocodes.to_csv(fp_output_file)\n",
    "\n",
    "# block_geocodes.to_csv('documents/UofM/SIADS 591/block_walkscores.csv')"
   ]
  },
  {
   "cell_type": "markdown",
   "metadata": {},
   "source": [
    "## Read in Walkscore Table and Add City/Township Information"
   ]
  },
  {
   "cell_type": "code",
   "execution_count": 187,
   "metadata": {},
   "outputs": [
    {
     "name": "stderr",
     "output_type": "stream",
     "text": [
      "/Users/alanfehsenfeld/opt/anaconda3/lib/python3.8/site-packages/geopandas/geodataframe.py:422: RuntimeWarning: Sequential read of iterator was interrupted. Resetting iterator. This can negatively impact the performance.\n",
      "  for feature in features_lst:\n"
     ]
    },
    {
     "data": {
      "text/html": [
       "<div>\n",
       "<style scoped>\n",
       "    .dataframe tbody tr th:only-of-type {\n",
       "        vertical-align: middle;\n",
       "    }\n",
       "\n",
       "    .dataframe tbody tr th {\n",
       "        vertical-align: top;\n",
       "    }\n",
       "\n",
       "    .dataframe thead th {\n",
       "        text-align: right;\n",
       "    }\n",
       "</style>\n",
       "<table border=\"1\" class=\"dataframe\">\n",
       "  <thead>\n",
       "    <tr style=\"text-align: right;\">\n",
       "      <th></th>\n",
       "      <th>field_1</th>\n",
       "      <th>GEOID_BLOCK</th>\n",
       "      <th>INTPTLAT_BLOCK</th>\n",
       "      <th>INTPTLON_BLOCK</th>\n",
       "      <th>walkscore</th>\n",
       "      <th>walkscore_ind</th>\n",
       "      <th>geometry</th>\n",
       "    </tr>\n",
       "  </thead>\n",
       "  <tbody>\n",
       "    <tr>\n",
       "      <th>0</th>\n",
       "      <td>0</td>\n",
       "      <td>260050000000000.0</td>\n",
       "      <td>42.764015</td>\n",
       "      <td>-85.59509150000002</td>\n",
       "      <td>0</td>\n",
       "      <td>1.0</td>\n",
       "      <td>POINT (-85.59509 42.76402)</td>\n",
       "    </tr>\n",
       "    <tr>\n",
       "      <th>1</th>\n",
       "      <td>1</td>\n",
       "      <td>260150000000000.0</td>\n",
       "      <td>42.769112899999996</td>\n",
       "      <td>-85.38274109999998</td>\n",
       "      <td>0</td>\n",
       "      <td>1.0</td>\n",
       "      <td>POINT (-85.38274 42.76911)</td>\n",
       "    </tr>\n",
       "    <tr>\n",
       "      <th>2</th>\n",
       "      <td>2</td>\n",
       "      <td>260670000000000.0</td>\n",
       "      <td>43.0428836</td>\n",
       "      <td>-85.30689170000002</td>\n",
       "      <td>0</td>\n",
       "      <td>1.0</td>\n",
       "      <td>POINT (-85.30689 43.04288)</td>\n",
       "    </tr>\n",
       "    <tr>\n",
       "      <th>3</th>\n",
       "      <td>3</td>\n",
       "      <td>260670000000000.0</td>\n",
       "      <td>43.07529870000001</td>\n",
       "      <td>-85.2579615</td>\n",
       "      <td>0</td>\n",
       "      <td>1.0</td>\n",
       "      <td>POINT (-85.25796 43.07530)</td>\n",
       "    </tr>\n",
       "    <tr>\n",
       "      <th>4</th>\n",
       "      <td>4</td>\n",
       "      <td>260670000000000.0</td>\n",
       "      <td>42.80607910000001</td>\n",
       "      <td>-85.3008553</td>\n",
       "      <td>0</td>\n",
       "      <td>1.0</td>\n",
       "      <td>POINT (-85.30086 42.80608)</td>\n",
       "    </tr>\n",
       "    <tr>\n",
       "      <th>...</th>\n",
       "      <td>...</td>\n",
       "      <td>...</td>\n",
       "      <td>...</td>\n",
       "      <td>...</td>\n",
       "      <td>...</td>\n",
       "      <td>...</td>\n",
       "      <td>...</td>\n",
       "    </tr>\n",
       "    <tr>\n",
       "      <th>9142</th>\n",
       "      <td>9142</td>\n",
       "      <td>261180000000000.0</td>\n",
       "      <td>43.3149723</td>\n",
       "      <td>-85.33944749999998</td>\n",
       "      <td>0</td>\n",
       "      <td>1.0</td>\n",
       "      <td>POINT (-85.33945 43.31497)</td>\n",
       "    </tr>\n",
       "    <tr>\n",
       "      <th>9143</th>\n",
       "      <td>9143</td>\n",
       "      <td>261180000000000.0</td>\n",
       "      <td>43.2275902</td>\n",
       "      <td>-85.2613436</td>\n",
       "      <td>0</td>\n",
       "      <td>1.0</td>\n",
       "      <td>POINT (-85.26134 43.22759)</td>\n",
       "    </tr>\n",
       "    <tr>\n",
       "      <th>9144</th>\n",
       "      <td>9144</td>\n",
       "      <td>261180000000000.0</td>\n",
       "      <td>43.1831943</td>\n",
       "      <td>-85.26993409999999</td>\n",
       "      <td>35</td>\n",
       "      <td>1.0</td>\n",
       "      <td>POINT (-85.26993 43.18319)</td>\n",
       "    </tr>\n",
       "    <tr>\n",
       "      <th>9145</th>\n",
       "      <td>9145</td>\n",
       "      <td>261180000000000.0</td>\n",
       "      <td>43.1515355</td>\n",
       "      <td>-85.2727783</td>\n",
       "      <td>1</td>\n",
       "      <td>1.0</td>\n",
       "      <td>POINT (-85.27278 43.15154)</td>\n",
       "    </tr>\n",
       "    <tr>\n",
       "      <th>9146</th>\n",
       "      <td>9146</td>\n",
       "      <td>261390000000000.0</td>\n",
       "      <td>42.884414899999996</td>\n",
       "      <td>-85.78492790000001</td>\n",
       "      <td>35</td>\n",
       "      <td>1.0</td>\n",
       "      <td>POINT (-85.78493 42.88441)</td>\n",
       "    </tr>\n",
       "  </tbody>\n",
       "</table>\n",
       "<p>9147 rows × 7 columns</p>\n",
       "</div>"
      ],
      "text/plain": [
       "     field_1        GEOID_BLOCK      INTPTLAT_BLOCK      INTPTLON_BLOCK  \\\n",
       "0          0  260050000000000.0           42.764015  -85.59509150000002   \n",
       "1          1  260150000000000.0  42.769112899999996  -85.38274109999998   \n",
       "2          2  260670000000000.0          43.0428836  -85.30689170000002   \n",
       "3          3  260670000000000.0   43.07529870000001         -85.2579615   \n",
       "4          4  260670000000000.0   42.80607910000001         -85.3008553   \n",
       "...      ...                ...                 ...                 ...   \n",
       "9142    9142  261180000000000.0          43.3149723  -85.33944749999998   \n",
       "9143    9143  261180000000000.0          43.2275902         -85.2613436   \n",
       "9144    9144  261180000000000.0          43.1831943  -85.26993409999999   \n",
       "9145    9145  261180000000000.0          43.1515355         -85.2727783   \n",
       "9146    9146  261390000000000.0  42.884414899999996  -85.78492790000001   \n",
       "\n",
       "     walkscore walkscore_ind                    geometry  \n",
       "0            0           1.0  POINT (-85.59509 42.76402)  \n",
       "1            0           1.0  POINT (-85.38274 42.76911)  \n",
       "2            0           1.0  POINT (-85.30689 43.04288)  \n",
       "3            0           1.0  POINT (-85.25796 43.07530)  \n",
       "4            0           1.0  POINT (-85.30086 42.80608)  \n",
       "...        ...           ...                         ...  \n",
       "9142         0           1.0  POINT (-85.33945 43.31497)  \n",
       "9143         0           1.0  POINT (-85.26134 43.22759)  \n",
       "9144        35           1.0  POINT (-85.26993 43.18319)  \n",
       "9145         1           1.0  POINT (-85.27278 43.15154)  \n",
       "9146        35           1.0  POINT (-85.78493 42.88441)  \n",
       "\n",
       "[9147 rows x 7 columns]"
      ]
     },
     "execution_count": 187,
     "metadata": {},
     "output_type": "execute_result"
    }
   ],
   "source": [
    "data_dir = base + r\"/data\"\n",
    "fp_input_file = data_dir + r\"/block_walkscores.csv\"\n",
    "\n",
    "# block_walkscores=geopandas.read_file('documents/UofM/SIADS 591/block_walkscores.csv')\n",
    "\n",
    "block_walkscores=geopandas.read_file(fp_input_file)\n",
    "block_walkscores_df=geopandas.GeoDataFrame(block_walkscores,geometry=geopandas.points_from_xy(\\\n",
    "                    block_walkscores.loc[:,'INTPTLON_BLOCK'],block_walkscores.loc[:,'INTPTLAT_BLOCK']))\n",
    "block_walkscores_df=block_walkscores_df.set_crs('WGS84')\n",
    "block_walkscores_df=block_walkscores_df.to_crs('EPSG:2253')"
   ]
  },
  {
   "cell_type": "code",
   "execution_count": 192,
   "metadata": {},
   "outputs": [],
   "source": [
    "data_dir = base + r\"/data/municipalities\"\n",
    "fp_input_file = data_dir + r\"/City_and_Township.shp\"\n",
    "\n",
    "# cities_and_townships=geopandas.read_file(\"documents/UofM/SIADS 591/City_and_Township.shp\")\n",
    "\n",
    "cities_and_townships=geopandas.read_file(fp_input_file)\n",
    "cities_and_townships=cities_and_townships.to_crs('EPSG:2253')\n",
    "block_walkscores_with_cities_and_townships=geopandas.sjoin(cities_and_townships,block_walkscores_df,how='inner',op='intersects')"
   ]
  },
  {
   "cell_type": "code",
   "execution_count": 193,
   "metadata": {},
   "outputs": [],
   "source": [
    "block_walkscores_with_cities_and_townships=block_walkscores_with_cities_and_townships.drop(columns='geometry')\n",
    "\n",
    "data_dir = base + r\"/data\"\n",
    "fp_output_file = data_dir + r\"/block_walkscores_with_cities_and_townships.csv\"\n",
    "block_walkscores_with_cities_and_townships.to_csv(fp_output_file)\n",
    "\n",
    "# block_walkscores_with_cities_and_townships.to_csv('documents/UofM/SIADS 591/block_walkscores_with_cities_and_townships.csv')"
   ]
  },
  {
   "cell_type": "code",
   "execution_count": 326,
   "metadata": {},
   "outputs": [],
   "source": [
    "block_walkscores_with_cities_and_townships=block_walkscores_with_cities_and_townships.loc[:,['CVTNAME','GEOID_BLOCK','INTPTLAT_BLOCK','INTPTLON_BLOCK','walkscore']]"
   ]
  },
  {
   "cell_type": "markdown",
   "metadata": {},
   "source": [
    "## Code Municipality Name to Match Municipality from All_Municipalities Table"
   ]
  },
  {
   "cell_type": "code",
   "execution_count": 325,
   "metadata": {},
   "outputs": [],
   "source": [
    "data_dir = base + r\"/data/municipalities\"\n",
    "fp_input_file = data_dir + r\"/municipalities file.csv\"\n",
    "\n",
    "# municipalities=pd.read_csv('documents/UofM/SIADS 591/municipalities file.csv')\n",
    "\n",
    "municipalities=pd.read_csv(fp_input_file)\n",
    "block_walkscores_with_cities_and_townships2=block_walkscores_with_cities_and_townships.merge(municipalities,\\\n",
    "    how='inner',left_on='CVTNAME',right_on='SHAPE FILE MUNICIPALITY')\n",
    "block_walkscores_with_cities_and_townships2['walkscore']=\\\n",
    "    block_walkscores_with_cities_and_townships2['walkscore'].apply(int)\n",
    "block_walkscores_with_cities_and_townships2['MUNICIPALITIES FILE MUNICIPALITY']=\\\n",
    "    block_walkscores_with_cities_and_townships2['MUNICIPALITIES FILE MUNICIPALITY'].astype(str)"
   ]
  },
  {
   "cell_type": "markdown",
   "metadata": {},
   "source": [
    "## Calculate Maximum Walkscore by Municpality"
   ]
  },
  {
   "cell_type": "code",
   "execution_count": 547,
   "metadata": {},
   "outputs": [],
   "source": [
    "max_walkscore=block_walkscores_with_cities_and_townships2.loc[:,['MUNICIPALITIES FILE MUNICIPALITY','walkscore']]\n",
    "max_walkscore=max_walkscore.groupby(['MUNICIPALITIES FILE MUNICIPALITY']).agg('max')\n",
    "max_walkscore=max_walkscore.rename(columns={'walkscore':'max_walkscore'})\n",
    "max_walkscore=block_walkscores_with_cities_and_townships2.merge(max_walkscore,how='inner',\\\n",
    "    left_on=['MUNICIPALITIES FILE MUNICIPALITY','walkscore'],right_on=['MUNICIPALITIES FILE MUNICIPALITY',\\\n",
    "    'max_walkscore'])\n",
    "max_walkscore=max_walkscore.loc[:,['MUNICIPALITIES FILE MUNICIPALITY','INTPTLAT_BLOCK','INTPTLON_BLOCK',\\\n",
    "    'max_walkscore']]"
   ]
  },
  {
   "cell_type": "markdown",
   "metadata": {},
   "source": [
    "## Find Municipalities and Blocks with Walkscores Greater than 80"
   ]
  },
  {
   "cell_type": "code",
   "execution_count": 650,
   "metadata": {},
   "outputs": [],
   "source": [
    "max_walkscore_gt80=max_walkscore[max_walkscore['max_walkscore']>=80].groupby('MUNICIPALITIES FILE MUNICIPALITY').agg('count').reset_index()\n",
    "blocks_gt80=max_walkscore_gt80.merge(block_walkscores_with_cities_and_townships2,how='left',\\\n",
    "                                     left_on='MUNICIPALITIES FILE MUNICIPALITY',\\\n",
    "                                     right_on='MUNICIPALITIES FILE MUNICIPALITY')\n",
    "blocks_gt80=blocks_gt80[blocks_gt80['walkscore']>=80]\n",
    "blocks_gt80=geopandas.GeoDataFrame(blocks_gt80,geometry=geopandas.points_from_xy(blocks_gt80.loc[:,'INTPTLON_BLOCK_y'],\\\n",
    "                                                                                blocks_gt80.loc[:,'INTPTLAT_BLOCK_y']))\n",
    "blocks_gt80=blocks_gt80.set_crs('WGS84')\n",
    "blocks_gt80=blocks_gt80.to_crs('EPSG:2253')\n",
    "blocks_gt80_geo=blocks_gt80.buffer(1760)\n",
    "blocks_gt80.geometry=blocks_gt80_geo"
   ]
  },
  {
   "cell_type": "markdown",
   "metadata": {},
   "source": [
    "## Import Municipalities File and Join it with  Blocks_gt80"
   ]
  },
  {
   "cell_type": "code",
   "execution_count": 292,
   "metadata": {},
   "outputs": [],
   "source": [
    "data_dir = base + r\"/data/municipalities\"\n",
    "fp_input_file = data_dir + r\"/All Municipalities Geometry and Municipality.shp\"\n",
    "\n",
    "Municipalities_file=geopandas.read_file(fp_input_file)\n",
    "\n",
    "# Municipalities_file=geopandas.read_file('documents/UofM/SIADS 591/All Municipalities Geometry and Municipality.shp')"
   ]
  },
  {
   "cell_type": "code",
   "execution_count": 293,
   "metadata": {},
   "outputs": [],
   "source": [
    "Municipalities_file_gt80=max_walkscore_gt80.merge(Municipalities_file,how='left',\\\n",
    "                                             left_on='MUNICIPALITIES FILE MUNICIPALITY',right_on='Municipali')\n",
    "Municipalities_file_gt80=geopandas.GeoDataFrame(Municipalities_file_gt80)\n",
    "Municipalities_file_gt80=Municipalities_file_gt80.loc[:,['ID','Municipali','geometry']]"
   ]
  },
  {
   "cell_type": "code",
   "execution_count": 294,
   "metadata": {},
   "outputs": [],
   "source": [
    "Municipalities_file_gt80=geopandas.sjoin(Municipalities_file_gt80,blocks_gt80,how='left',op='intersects')\n",
    "Municipalities_file_gt80=Municipalities_file_gt80.loc[:,['ID','index_right']]"
   ]
  },
  {
   "cell_type": "code",
   "execution_count": 295,
   "metadata": {},
   "outputs": [],
   "source": [
    "Municipalities_file_gt80.loc[:,'index_right']=Municipalities_file_gt80.loc[:,'index_right']\\\n",
    "    .where(Municipalities_file_gt80.loc[:,'index_right'].isna(),12)\n",
    "Municipalities_file_gt80.loc[:,'index_right']=Municipalities_file_gt80.loc[:,'index_right']\\\n",
    "    .where(Municipalities_file_gt80.loc[:,'index_right'].notna(),0)\n",
    "Municipalities_file_gt80=Municipalities_file_gt80.rename(columns={'index_right':'walkscore_ind'})"
   ]
  },
  {
   "cell_type": "code",
   "execution_count": 297,
   "metadata": {},
   "outputs": [],
   "source": [
    "gt80=Municipalities_file_gt80.groupby('ID').agg('max').reset_index()"
   ]
  },
  {
   "cell_type": "markdown",
   "metadata": {},
   "source": [
    "## Find Municipalities with Max Walkscores between 50 and 80"
   ]
  },
  {
   "cell_type": "code",
   "execution_count": 558,
   "metadata": {},
   "outputs": [],
   "source": [
    "max_walkscore_gt50=max_walkscore[(max_walkscore['max_walkscore']>=50)&(max_walkscore['max_walkscore']<80)]\n",
    "max_walkscore_cities=max_walkscore_gt50.loc[:,'MUNICIPALITIES FILE MUNICIPALITY'].unique()\n",
    "\n",
    "max_walkscore_gt50=geopandas.GeoDataFrame(max_walkscore_gt50,geometry=\\\n",
    "                                     geopandas.points_from_xy(max_walkscore_gt50.loc[:,'INTPTLON_BLOCK'],\\\n",
    "                                                              max_walkscore_gt50.loc[:,'INTPTLAT_BLOCK']))\n",
    "max_walkscore_gt50=max_walkscore_gt50.set_crs('WGS84')\n",
    "max_walkscore_gt50=max_walkscore_gt50.to_crs('EPSG:2253')"
   ]
  },
  {
   "cell_type": "markdown",
   "metadata": {},
   "source": [
    "## Find Parcels in Municipalities with Max Walkscores between 50 and 80"
   ]
  },
  {
   "cell_type": "code",
   "execution_count": 559,
   "metadata": {},
   "outputs": [],
   "source": [
    "data_dir = base + r\"/data/municipalities\"\n",
    "fp_input_file = data_dir + r\"/All Municipalities Geometry and Municipality.shp\"\n",
    "\n",
    "Municipalities_file_50to80=geopandas.read_file(fp_input_file)\n",
    "\n",
    "# Municipalities_file_50to80=geopandas.read_file('documents/UofM/SIADS 591/All Municipalities Geometry and Municipality.shp')"
   ]
  },
  {
   "cell_type": "code",
   "execution_count": 560,
   "metadata": {},
   "outputs": [],
   "source": [
    "Municipalities_file_50to80=Municipalities_file_50to80.merge(max_walkscore_gt50,how='right',left_on='Municipali',right_on='MUNICIPALITIES FILE MUNICIPALITY')"
   ]
  },
  {
   "cell_type": "code",
   "execution_count": 561,
   "metadata": {},
   "outputs": [],
   "source": [
    "Municipalities_file_50to80=Municipalities_file_50to80.drop_duplicates(subset='ID',keep='first')\n",
    "Municipalities_file_50to80=Municipalities_file_50to80.loc[:,['ID','Municipali','geometry_x']]\n",
    "Municipalities_file_50to80=Municipalities_file_50to80.rename(columns={'geometry_x':'geometry'})\n",
    "geometry=Municipalities_file_50to80.loc[:,'geometry']\n",
    "Municipalities_file_50to80=geopandas.GeoDataFrame(Municipalities_file_50to80,geometry=geometry)\n",
    "Municipalities_file_50to80=Municipalities_file_50to80.set_crs('EPSG:2253')"
   ]
  },
  {
   "cell_type": "markdown",
   "metadata": {},
   "source": [
    "## Find Parcels 1/3rd of a Mile from Max Walkscore"
   ]
  },
  {
   "cell_type": "code",
   "execution_count": 562,
   "metadata": {
    "scrolled": true
   },
   "outputs": [],
   "source": [
    "max_walkscore_ot=max_walkscore_gt50\n",
    "max_walkscore_ot_geo=max_walkscore_ot.buffer(1760)\n",
    "max_walkscore_ot.geometry=max_walkscore_ot_geo"
   ]
  },
  {
   "cell_type": "code",
   "execution_count": 563,
   "metadata": {},
   "outputs": [],
   "source": [
    "Municipalities_File_50to80_ot=geopandas.sjoin(Municipalities_file_50to80,max_walkscore_ot,how='left',op='intersects')\n",
    "walkscore_ind=list(Municipalities_File_50to80_ot.loc[:,'Municipali']==Municipalities_File_50to80_ot.loc[:,'MUNICIPALITIES FILE MUNICIPALITY'])\n",
    "ID=Municipalities_File_50to80_ot.loc[:,'ID']\n",
    "Municipalities_File_50to80_ot=pd.DataFrame({'ID':ID,'walkscore_ind':walkscore_ind})"
   ]
  },
  {
   "cell_type": "code",
   "execution_count": 564,
   "metadata": {},
   "outputs": [],
   "source": [
    "Municipalities_File_50to80_ot=Municipalities_File_50to80_ot.groupby('ID').agg('sum').reset_index()"
   ]
  },
  {
   "cell_type": "code",
   "execution_count": 566,
   "metadata": {},
   "outputs": [],
   "source": [
    "Municipalities_File_50to80_ot.loc[:,'walkscore_ind'][Municipalities_File_50to80_ot.loc[:,'walkscore_ind']>0]=7"
   ]
  },
  {
   "cell_type": "markdown",
   "metadata": {},
   "source": [
    "## Find Parcels 1/2 of a Mile from Max Walkscore"
   ]
  },
  {
   "cell_type": "code",
   "execution_count": 570,
   "metadata": {},
   "outputs": [],
   "source": [
    "max_walkscore_oh=max_walkscore_gt50\n",
    "max_walkscore_oh_geo=max_walkscore_oh.buffer(2640)\n",
    "max_walkscore_oh.geometry=max_walkscore_oh_geo"
   ]
  },
  {
   "cell_type": "code",
   "execution_count": 571,
   "metadata": {},
   "outputs": [],
   "source": [
    "Municipalities_File_50to80_oh=geopandas.sjoin(Municipalities_file_50to80,max_walkscore_oh,how='left',op='intersects')\n",
    "walkscore_ind=list(Municipalities_File_50to80_oh.loc[:,'Municipali']==Municipalities_File_50to80_oh.loc[:,'MUNICIPALITIES FILE MUNICIPALITY'])\n",
    "ID=Municipalities_File_50to80_oh.loc[:,'ID']\n",
    "Municipalities_File_50to80_oh=pd.DataFrame({'ID':ID,'walkscore_ind':walkscore_ind})"
   ]
  },
  {
   "cell_type": "code",
   "execution_count": 572,
   "metadata": {},
   "outputs": [],
   "source": [
    "Municipalities_File_50to80_oh=Municipalities_File_50to80_oh.groupby('ID').agg('sum').reset_index()"
   ]
  },
  {
   "cell_type": "code",
   "execution_count": 573,
   "metadata": {},
   "outputs": [],
   "source": [
    "Municipalities_File_50to80_oh.loc[:,'walkscore_ind'][Municipalities_File_50to80_oh.loc[:,'walkscore_ind']>0]=5"
   ]
  },
  {
   "cell_type": "markdown",
   "metadata": {},
   "source": [
    " ## Combine 1/3rd and 1/2 Files\n",
    "    "
   ]
  },
  {
   "cell_type": "code",
   "execution_count": 579,
   "metadata": {},
   "outputs": [],
   "source": [
    "gt50=Municipalities_File_50to80_ot.merge(Municipalities_File_50to80_oh,how='left',left_on='ID',right_on='ID')\n",
    "walkscore_ind=gt50.loc[:,['walkscore_ind_x','walkscore_ind_y']].max(axis=1)\n",
    "gt50=pd.DataFrame({'ID':gt50.loc[:,'ID'],'walkscore_ind':walkscore_ind})"
   ]
  },
  {
   "cell_type": "markdown",
   "metadata": {},
   "source": [
    "## Combine All Files"
   ]
  },
  {
   "cell_type": "code",
   "execution_count": 584,
   "metadata": {},
   "outputs": [],
   "source": [
    "lt50_cities=max_walkscore[max_walkscore['max_walkscore']<50].groupby('MUNICIPALITIES FILE MUNICIPALITY').agg('mean').reset_index()\n",
    "lt50_all_fields=lt50_cities.merge(Municipalities_file,how='left',left_on='MUNICIPALITIES FILE MUNICIPALITY',\\\n",
    "                                  right_on='Municipali')\n",
    "walkscore=np.zeros(len(lt50_all_fields))\n",
    "lt50=pd.DataFrame({'ID':lt50_all_fields.loc[:,'ID'],'walkscore_ind':walkscore})\n",
    "\n",
    "walkscore=pd.concat([gt80,gt50,lt50])\n"
   ]
  },
  {
   "cell_type": "code",
   "execution_count": 1,
   "metadata": {},
   "outputs": [
    {
     "ename": "NameError",
     "evalue": "name 'base' is not defined",
     "output_type": "error",
     "traceback": [
      "\u001b[0;31m---------------------------------------------------------------------------\u001b[0m",
      "\u001b[0;31mNameError\u001b[0m                                 Traceback (most recent call last)",
      "\u001b[0;32m<ipython-input-1-9f2fb611a3e2>\u001b[0m in \u001b[0;36m<module>\u001b[0;34m\u001b[0m\n\u001b[0;32m----> 1\u001b[0;31m \u001b[0mdata_dir\u001b[0m \u001b[0;34m=\u001b[0m \u001b[0mbase\u001b[0m \u001b[0;34m+\u001b[0m \u001b[0;34mr\"/data\"\u001b[0m\u001b[0;34m\u001b[0m\u001b[0;34m\u001b[0m\u001b[0m\n\u001b[0m\u001b[1;32m      2\u001b[0m \u001b[0mfp_input_file\u001b[0m \u001b[0;34m=\u001b[0m \u001b[0mdata_dir\u001b[0m \u001b[0;34m+\u001b[0m \u001b[0;34mr\"/walkscore.csv\"\u001b[0m\u001b[0;34m\u001b[0m\u001b[0;34m\u001b[0m\u001b[0m\n\u001b[1;32m      3\u001b[0m \u001b[0;34m\u001b[0m\u001b[0m\n\u001b[1;32m      4\u001b[0m \u001b[0mwalkscore\u001b[0m\u001b[0;34m.\u001b[0m\u001b[0mto_csv\u001b[0m\u001b[0;34m(\u001b[0m\u001b[0;34m'documents/UofM/SIADS 591/walkscore.csv'\u001b[0m\u001b[0;34m)\u001b[0m\u001b[0;34m\u001b[0m\u001b[0;34m\u001b[0m\u001b[0m\n",
      "\u001b[0;31mNameError\u001b[0m: name 'base' is not defined"
     ]
    }
   ],
   "source": [
    "data_dir = base + r\"/data\"\n",
    "fp_output_file = data_dir + r\"/walkscore.csv\"\n",
    "\n",
    "walkscore.to_csv(fp_output_file)\n",
    "\n",
    "# walkscore.to_csv('documents/UofM/SIADS 591/walkscore.csv')"
   ]
  },
  {
   "cell_type": "code",
   "execution_count": null,
   "metadata": {},
   "outputs": [],
   "source": []
  }
 ],
 "metadata": {
  "kernelspec": {
   "display_name": "Python 3",
   "language": "python",
   "name": "python3"
  },
  "language_info": {
   "codemirror_mode": {
    "name": "ipython",
    "version": 3
   },
   "file_extension": ".py",
   "mimetype": "text/x-python",
   "name": "python",
   "nbconvert_exporter": "python",
   "pygments_lexer": "ipython3",
   "version": "3.8.5"
  }
 },
 "nbformat": 4,
 "nbformat_minor": 4
}
