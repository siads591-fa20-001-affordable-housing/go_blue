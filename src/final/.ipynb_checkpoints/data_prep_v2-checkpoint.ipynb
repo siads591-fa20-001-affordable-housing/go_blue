{
 "cells": [
  {
   "cell_type": "markdown",
   "metadata": {},
   "source": [
    "# University of Michigan\n",
    "## School of Information\n",
    "### Masters of Applied Data Science\n",
    "#### Milestone 1\n",
    "#### Alan, Koon Leong, George"
   ]
  },
  {
   "cell_type": "markdown",
   "metadata": {},
   "source": [
    "**Data Preparation**"
   ]
  },
  {
   "cell_type": "code",
   "execution_count": 1,
   "metadata": {},
   "outputs": [],
   "source": [
    "import sqlalchemy\n",
    "import pandas as pd\n",
    "import geopandas\n",
    "import geofeather\n",
    "import numpy as np\n",
    "from config import dbconfig, basedir\n",
    "\n",
    "properties_input = r'/data/property_level.csv'\n",
    "properties_output=r'/data/SIADS591_property.pkl'\n",
    "\n",
    "properties_shp_file = r'/data/municipalities/All Municipalities Geometry and Municipality.shp'\n",
    "properties_gis_output = r'/data/SIADS591municipalities.feather'\n",
    "\n",
    "test_mode = False"
   ]
  },
  {
   "cell_type": "code",
   "execution_count": 2,
   "metadata": {},
   "outputs": [],
   "source": [
    "# Upload property csv file into database\n",
    "\n",
    "\n",
    "def convert2int(df):\n",
    "    return df.astype('int')\n",
    "\n",
    "def calculate_percentage(data):\n",
    "    list_of_cities = list(data['City'].unique())\n",
    "    p_data = data.copy()\n",
    "    p_data['Percent']=0\n",
    "    for city in list_of_cities:\n",
    "        total_in_city = len(p_data[p_data.City == city])\n",
    "        p_data.loc[p_data.City == city, ['Percent']] = (1/total_in_city)*100\n",
    "    return p_data\n",
    "\n",
    "def prep_properties():\n",
    "    file_dir = basedir()\n",
    "    full_path = file_dir + properties_input\n",
    "    print(f'Data file {full_path}')\n",
    "    df = pd.read_csv(full_path)\n",
    "    df = df.iloc[:,2:-1]\n",
    "    df = df.rename(columns = {'PNUM': 'APN'})\n",
    "    df['City'] = df['City'].str.upper()\n",
    "    df = df.fillna(0)\n",
    "    df['Per Arce'] = convert2int(df['SEV']/df['Acres'])\n",
    "    df['SEV'] = convert2int(df['SEV'])\n",
    "    df['MSHDA Score'] = convert2int(df['MSHDA Score'])\n",
    "    df['amenities_ind'] = convert2int(df['amenities_ind'])\n",
    "    df['walkscore_ind'] = convert2int(df['walkscore_ind'])\n",
    "    \n",
    "    df = calculate_percentage(df)\n",
    "    \n",
    "    full_path = file_dir + properties_output\n",
    "    if test_mode:\n",
    "        df = df.iloc[0:100,:]\n",
    "        df.to_pickle(full_path)        \n",
    "    else:\n",
    "        df.to_pickle(full_path)\n",
    "    return df\n"
   ]
  },
  {
   "cell_type": "code",
   "execution_count": 3,
   "metadata": {},
   "outputs": [],
   "source": [
    "def prep_properties_geo():\n",
    "    \n",
    "    GRParcelsUnit=geopandas.read_file(basedir() + properties_shp_file)\n",
    "    # convert into latitude/longitude coordinates\n",
    "    GRParcelsUnit=GRParcelsUnit.to_crs('EPSG:4326')\n",
    "#     GRParcelsUnit=GRParcelsUnit.__geo_interface__\n",
    "    geofeather.to_geofeather(GRParcelsUnit, properties_gis_output)\n",
    "\n",
    "# geofeather.to_geofeather(gdf,'tutorialData/TaxiDataGeoFeather.feather')"
   ]
  },
  {
   "cell_type": "code",
   "execution_count": 4,
   "metadata": {},
   "outputs": [
    {
     "ename": "FileNotFoundError",
     "evalue": "[Errno 2] No such file or directory: '/data/SIADS591municipalities.feather.crs'",
     "output_type": "error",
     "traceback": [
      "\u001b[0;31m---------------------------------------------------------------------------\u001b[0m",
      "\u001b[0;31mFileNotFoundError\u001b[0m                         Traceback (most recent call last)",
      "\u001b[0;32m<ipython-input-4-9ca32348e21c>\u001b[0m in \u001b[0;36m<module>\u001b[0;34m\u001b[0m\n\u001b[0;32m----> 1\u001b[0;31m \u001b[0mprep_properties_geo\u001b[0m\u001b[0;34m(\u001b[0m\u001b[0;34m)\u001b[0m\u001b[0;34m\u001b[0m\u001b[0;34m\u001b[0m\u001b[0m\n\u001b[0m",
      "\u001b[0;32m<ipython-input-3-53569f55070c>\u001b[0m in \u001b[0;36mprep_properties_geo\u001b[0;34m()\u001b[0m\n\u001b[1;32m      5\u001b[0m     \u001b[0mGRParcelsUnit\u001b[0m\u001b[0;34m=\u001b[0m\u001b[0mGRParcelsUnit\u001b[0m\u001b[0;34m.\u001b[0m\u001b[0mto_crs\u001b[0m\u001b[0;34m(\u001b[0m\u001b[0;34m'EPSG:4326'\u001b[0m\u001b[0;34m)\u001b[0m\u001b[0;34m\u001b[0m\u001b[0;34m\u001b[0m\u001b[0m\n\u001b[1;32m      6\u001b[0m \u001b[0;31m#     GRParcelsUnit=GRParcelsUnit.__geo_interface__\u001b[0m\u001b[0;34m\u001b[0m\u001b[0;34m\u001b[0m\u001b[0;34m\u001b[0m\u001b[0m\n\u001b[0;32m----> 7\u001b[0;31m     \u001b[0mgeofeather\u001b[0m\u001b[0;34m.\u001b[0m\u001b[0mto_geofeather\u001b[0m\u001b[0;34m(\u001b[0m\u001b[0mGRParcelsUnit\u001b[0m\u001b[0;34m,\u001b[0m \u001b[0mproperties_gis_output\u001b[0m\u001b[0;34m)\u001b[0m\u001b[0;34m\u001b[0m\u001b[0;34m\u001b[0m\u001b[0m\n\u001b[0m\u001b[1;32m      8\u001b[0m \u001b[0;34m\u001b[0m\u001b[0m\n\u001b[1;32m      9\u001b[0m \u001b[0;31m# geofeather.to_geofeather(gdf,'tutorialData/TaxiDataGeoFeather.feather')\u001b[0m\u001b[0;34m\u001b[0m\u001b[0;34m\u001b[0m\u001b[0;34m\u001b[0m\u001b[0m\n",
      "\u001b[0;32m~/opt/anaconda3/lib/python3.8/site-packages/geofeather/core.py\u001b[0m in \u001b[0;36mto_geofeather\u001b[0;34m(df, path)\u001b[0m\n\u001b[1;32m     98\u001b[0m     \u001b[0mdf\u001b[0m\u001b[0;34m.\u001b[0m\u001b[0mgeometry\u001b[0m \u001b[0;34m=\u001b[0m \u001b[0mdf\u001b[0m\u001b[0;34m.\u001b[0m\u001b[0mgeometry\u001b[0m\u001b[0;34m.\u001b[0m\u001b[0mapply\u001b[0m\u001b[0;34m(\u001b[0m\u001b[0;32mlambda\u001b[0m \u001b[0mg\u001b[0m\u001b[0;34m:\u001b[0m \u001b[0mg\u001b[0m\u001b[0;34m.\u001b[0m\u001b[0mwkb\u001b[0m\u001b[0;34m)\u001b[0m\u001b[0;34m\u001b[0m\u001b[0;34m\u001b[0m\u001b[0m\n\u001b[1;32m     99\u001b[0m \u001b[0;34m\u001b[0m\u001b[0m\n\u001b[0;32m--> 100\u001b[0;31m     \u001b[0m_to_geofeather\u001b[0m\u001b[0;34m(\u001b[0m\u001b[0mdf\u001b[0m\u001b[0;34m,\u001b[0m \u001b[0mpath\u001b[0m\u001b[0;34m,\u001b[0m \u001b[0mcrs\u001b[0m\u001b[0;34m)\u001b[0m\u001b[0;34m\u001b[0m\u001b[0;34m\u001b[0m\u001b[0m\n\u001b[0m\u001b[1;32m    101\u001b[0m \u001b[0;34m\u001b[0m\u001b[0m\n\u001b[1;32m    102\u001b[0m \u001b[0;34m\u001b[0m\u001b[0m\n",
      "\u001b[0;32m~/opt/anaconda3/lib/python3.8/site-packages/geofeather/core.py\u001b[0m in \u001b[0;36m_to_geofeather\u001b[0;34m(df, path, crs)\u001b[0m\n\u001b[1;32m     25\u001b[0m     \u001b[0;31m# write the crs to an associated file\u001b[0m\u001b[0;34m\u001b[0m\u001b[0;34m\u001b[0m\u001b[0;34m\u001b[0m\u001b[0m\n\u001b[1;32m     26\u001b[0m     \u001b[0;32mif\u001b[0m \u001b[0mcrs\u001b[0m\u001b[0;34m:\u001b[0m\u001b[0;34m\u001b[0m\u001b[0;34m\u001b[0m\u001b[0m\n\u001b[0;32m---> 27\u001b[0;31m         \u001b[0;32mwith\u001b[0m \u001b[0mopen\u001b[0m\u001b[0;34m(\u001b[0m\u001b[0;34m\"{}.crs\"\u001b[0m\u001b[0;34m.\u001b[0m\u001b[0mformat\u001b[0m\u001b[0;34m(\u001b[0m\u001b[0mpath\u001b[0m\u001b[0;34m)\u001b[0m\u001b[0;34m,\u001b[0m \u001b[0;34m\"w\"\u001b[0m\u001b[0;34m)\u001b[0m \u001b[0;32mas\u001b[0m \u001b[0mcrsfile\u001b[0m\u001b[0;34m:\u001b[0m\u001b[0;34m\u001b[0m\u001b[0;34m\u001b[0m\u001b[0m\n\u001b[0m\u001b[1;32m     28\u001b[0m             \u001b[0;31m# geopandas CRS is now pyproj.CRS object\u001b[0m\u001b[0;34m\u001b[0m\u001b[0;34m\u001b[0m\u001b[0;34m\u001b[0m\u001b[0m\n\u001b[1;32m     29\u001b[0m             \u001b[0;32mif\u001b[0m \u001b[0mhasattr\u001b[0m\u001b[0;34m(\u001b[0m\u001b[0mcrs\u001b[0m\u001b[0;34m,\u001b[0m \u001b[0;34m\"to_wkt\"\u001b[0m\u001b[0;34m)\u001b[0m\u001b[0;34m:\u001b[0m\u001b[0;34m\u001b[0m\u001b[0;34m\u001b[0m\u001b[0m\n",
      "\u001b[0;31mFileNotFoundError\u001b[0m: [Errno 2] No such file or directory: '/data/SIADS591municipalities.feather.crs'"
     ]
    }
   ],
   "source": [
    "# prep_properties_geo()"
   ]
  },
  {
   "cell_type": "code",
   "execution_count": null,
   "metadata": {},
   "outputs": [],
   "source": []
  }
 ],
 "metadata": {
  "kernelspec": {
   "display_name": "Python 3",
   "language": "python",
   "name": "python3"
  },
  "language_info": {
   "codemirror_mode": {
    "name": "ipython",
    "version": 3
   },
   "file_extension": ".py",
   "mimetype": "text/x-python",
   "name": "python",
   "nbconvert_exporter": "python",
   "pygments_lexer": "ipython3",
   "version": "3.8.5"
  }
 },
 "nbformat": 4,
 "nbformat_minor": 4
}
