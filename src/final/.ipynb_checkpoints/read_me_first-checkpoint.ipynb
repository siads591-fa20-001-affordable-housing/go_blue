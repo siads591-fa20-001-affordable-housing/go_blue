{
 "cells": [
  {
   "cell_type": "markdown",
   "metadata": {},
   "source": [
    "# University of Michigan\n",
    "## School of Information\n",
    "**Masters of Applied Data Science**<br>\n",
    "**Milestone 1**<br>\n",
    "<br>\n",
    "Affordable Housing Project\n",
    "<br><br>\n",
    "**Submitted by**<br>\n",
    ">Alan Fehsenfeld<br>Koon Leong Ho<br>George Thio"
   ]
  },
  {
   "cell_type": "markdown",
   "metadata": {},
   "source": [
    "## A note about notebooks\n",
    "<br>\n",
    "This notebook provides a brief description on all the notebooks and python file used in this project.  These notebooks are used to ingest data from different sources and manipulate them so that they can be used for visualization.\n",
    "  "
   ]
  },
  {
   "cell_type": "markdown",
   "metadata": {},
   "source": [
    "**config**\n",
    "<br>\n",
    "This is a python file that is a library of shared functions commonly used by the Jupyter Notebooks in this project."
   ]
  },
  {
   "cell_type": "markdown",
   "metadata": {},
   "source": [
    "**amenities.ipynb**\n",
    "<br>\n",
    "Some comments on the notebook."
   ]
  },
  {
   "cell_type": "markdown",
   "metadata": {},
   "source": [
    "**core_logic_data.ipynb**\n",
    "<br>\n",
    "Some comments on the notebook."
   ]
  },
  {
   "cell_type": "markdown",
   "metadata": {},
   "source": [
    "**data_prep.ipynb**\n",
    "<br>\n",
    "This notebook reads the final data merged data file in CSV format and save it in pickle format to improve performance. In addition, the final data cleaning such standardizing data types where appropriate will also be done in this notebook.  Calculated fields used for visualzation will also be done here."
   ]
  },
  {
   "cell_type": "markdown",
   "metadata": {},
   "source": [
    "**visualization.ipynb**\n",
    "<br>\n",
    "This notebook reads in the final \"cleaned\" data file and generates visualization for Exploratory Data Analysis and geospatial plots of the properties for Kent County."
   ]
  },
  {
   "cell_type": "code",
   "execution_count": null,
   "metadata": {},
   "outputs": [],
   "source": []
  },
  {
   "cell_type": "code",
   "execution_count": null,
   "metadata": {},
   "outputs": [],
   "source": []
  },
  {
   "cell_type": "markdown",
   "metadata": {},
   "source": [
    "**"
   ]
  }
 ],
 "metadata": {
  "kernelspec": {
   "display_name": "Python 3",
   "language": "python",
   "name": "python3"
  },
  "language_info": {
   "codemirror_mode": {
    "name": "ipython",
    "version": 3
   },
   "file_extension": ".py",
   "mimetype": "text/x-python",
   "name": "python",
   "nbconvert_exporter": "python",
   "pygments_lexer": "ipython3",
   "version": "3.8.5"
  }
 },
 "nbformat": 4,
 "nbformat_minor": 4
}
