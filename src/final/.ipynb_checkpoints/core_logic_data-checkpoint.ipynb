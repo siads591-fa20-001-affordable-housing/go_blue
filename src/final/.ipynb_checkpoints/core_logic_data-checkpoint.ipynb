{
 "cells": [
  {
   "cell_type": "markdown",
   "metadata": {},
   "source": [
    "# University of Michigan\n",
    "## School of Information\n",
    "**Masters of Applied Data Science**<br>\n",
    "**Milestone 1**<br>\n",
    "<br>\n",
    "Affordable Housing Project\n",
    "<br><br>\n",
    "**Submitted by**<br>\n",
    ">Alan Fehsenfeld<br>Koon Leong Ho<br>George Thio"
   ]
  },
  {
   "cell_type": "markdown",
   "metadata": {},
   "source": [
    "# Get CoreLogic Data"
   ]
  },
  {
   "cell_type": "markdown",
   "metadata": {},
   "source": [
    "## Start Spark Session"
   ]
  },
  {
   "cell_type": "code",
   "execution_count": 1,
   "metadata": {},
   "outputs": [
    {
     "data": {
      "text/plain": [
       "'/Users/koonleong/Documents/UMMADS/SIADS591/project_git/go_blue/src/final'"
      ]
     },
     "execution_count": 1,
     "metadata": {},
     "output_type": "execute_result"
    }
   ],
   "source": [
    "import pandas as pd\n",
    "from config import basedir\n",
    "\n",
    "from pyspark.sql import SparkSession\n",
    "spark=SparkSession\\\n",
    ".builder\\\n",
    ".master(\"local[*]\")\\\n",
    ".appName(\"TaxDataImport\")\\\n",
    ".getOrCreate()\n",
    "\n",
    "sc=spark.sparkContext\n",
    "\n",
    "base=basedir()\n"
   ]
  },
  {
   "cell_type": "code",
   "execution_count": 3,
   "metadata": {},
   "outputs": [],
   "source": [
    "data_dir = base + r\"/data/core_logic_data/\"\n",
    "input_file = data_dir + r\"/TaxData.txt\"\n",
    "\n",
    "lines=sc.textFile(fp_input_file)\n",
    "TaxDf=spark.read.option(\"header\",\"true\").csv(fp_input_file,sep='|')"
   ]
  },
  {
   "cell_type": "markdown",
   "metadata": {},
   "source": [
    "## Read CoreLogic Data Three Variables at a Time"
   ]
  },
  {
   "cell_type": "code",
   "execution_count": 3,
   "metadata": {},
   "outputs": [],
   "source": [
    "output_file1 = data_dir + r\"/TaxData1.csv\"\n",
    "\n",
    "TaxDf2=TaxDf.filter(TaxDf['SITUS STATE']=='MI')\n",
    "TaxDf3=TaxDf2['ORIGINAL APN','FIPS CODE','CENSUS TRACT'].collect()\n",
    "TaxDf4=pd.DataFrame(TaxDf3)\n",
    "TaxDf4.to_csv(output_file1)"
   ]
  },
  {
   "cell_type": "code",
   "execution_count": 4,
   "metadata": {},
   "outputs": [],
   "source": [
    "output_file2 = data_dir + r\"/TaxData2.csv\"\n",
    "\n",
    "TaxDf2=TaxDf.filter(TaxDf['SITUS STATE']=='MI')\n",
    "TaxDf3=TaxDf2['ORIGINAL APN','COUNTY USE1','LAND USE'].collect()\n",
    "TaxDf4=pd.DataFrame(TaxDf3)\n",
    "TaxDf4.to_csv(output_file2)"
   ]
  },
  {
   "cell_type": "code",
   "execution_count": 5,
   "metadata": {},
   "outputs": [],
   "source": [
    "output_file3 = data_dir + r\"/TaxData3.csv\"\n",
    "\n",
    "TaxDf2=TaxDf.filter(TaxDf['SITUS STATE']=='MI')\n",
    "TaxDf3=TaxDf2['ORIGINAL APN','PROPERTY INDICATOR','TOTAL VALUE CALCULATED'].collect()\n",
    "TaxDf4=pd.DataFrame(TaxDf3)\n",
    "TaxDf4.to_csv(output_file3)"
   ]
  },
  {
   "cell_type": "code",
   "execution_count": 6,
   "metadata": {},
   "outputs": [],
   "source": [
    "output_file4 = data_dir + r\"/TaxData4.csv\"\n",
    "\n",
    "TaxDf2=TaxDf.filter(TaxDf['SITUS STATE']=='MI')\n",
    "TaxDf3=TaxDf2['ORIGINAL APN','MUNICIPALITY NAME','MUNICIPALITY CODE'].collect()\n",
    "TaxDf4=pd.DataFrame(TaxDf3)\n",
    "TaxDf4.to_csv(output_file4)"
   ]
  },
  {
   "cell_type": "code",
   "execution_count": 4,
   "metadata": {},
   "outputs": [],
   "source": [
    "output_file5 = data_dir + r\"/TaxData5.csv\"\n",
    "\n",
    "TaxDf2=TaxDf.filter(TaxDf['SITUS STATE']=='MI')\n",
    "TaxDf3=TaxDf2['ORIGINAL APN','PROPERTY LEVEL LATITUDE','PROPERTY LEVEL LONGITUDE'].collect()\n",
    "TaxDf4=pd.DataFrame(TaxDf3)\n",
    "TaxDf4.to_csv(output_file5)"
   ]
  },
  {
   "cell_type": "code",
   "execution_count": 5,
   "metadata": {},
   "outputs": [],
   "source": [
    "output_file6 = data_dir + r\"/TaxData6.csv\"\n",
    "\n",
    "TaxDf2=TaxDf.filter(TaxDf['SITUS STATE']=='MI')\n",
    "TaxDf3=TaxDf2['ORIGINAL APN','ACRES','YEAR BUILT'].collect()\n",
    "TaxDf4=pd.DataFrame(TaxDf3)\n",
    "TaxDf4.to_csv(output_file6)"
   ]
  },
  {
   "cell_type": "code",
   "execution_count": 6,
   "metadata": {},
   "outputs": [],
   "source": [
    "output_file7 = data_dir + r\"/TaxData7.csv\"\n",
    "\n",
    "TaxDf2=TaxDf.filter(TaxDf['SITUS STATE']=='MI')\n",
    "TaxDf3=TaxDf2['ORIGINAL APN','LIVING SQUARE FEET','UNITS NUMBER'].collect()\n",
    "TaxDf4=pd.DataFrame(TaxDf3)\n",
    "TaxDf4.to_csv(output_file7)"
   ]
  },
  {
   "cell_type": "markdown",
   "metadata": {},
   "source": [
    "## Concatenate All CoreLogic Data"
   ]
  },
  {
   "cell_type": "code",
   "execution_count": 7,
   "metadata": {},
   "outputs": [
    {
     "name": "stderr",
     "output_type": "stream",
     "text": [
      "C:\\Users\\alanf\\Anaconda3\\lib\\site-packages\\IPython\\core\\interactiveshell.py:2785: DtypeWarning: Columns (2) have mixed types. Specify dtype option on import or set low_memory=False.\n",
      "  interactivity=interactivity, compiler=compiler, result=result)\n",
      "C:\\Users\\alanf\\Anaconda3\\lib\\site-packages\\IPython\\core\\interactiveshell.py:2785: DtypeWarning: Columns (3) have mixed types. Specify dtype option on import or set low_memory=False.\n",
      "  interactivity=interactivity, compiler=compiler, result=result)\n"
     ]
    }
   ],
   "source": [
    "import pandas as pd\n",
    "TaxData1=pd.read_csv(output_file1,index_col=1,names=['index_column','FIPS CODE','CENSUS TRACT'],header=None,skiprows=1)\n",
    "TaxData2=pd.read_csv(output_file2,index_col=1,names=['index_column','COUNTY USE1','LAND USE'],header=None,skiprows=1)\n",
    "TaxData3=pd.read_csv(output_file3,index_col=1,names=['index_column','PROPERTY INDICATOR','TOTAL VALUE CALCULATED'],header=None,skiprows=1)\n",
    "TaxData3=pd.read_csv(output_file4,index_col=1,names=['index_column','MUNICIPALITY NAME','MUNICIPALITY CODE'],header=None,skiprows=1)\n",
    "TaxData4=pd.read_csv(output_file5,index_col=1,names=['index_column','PROPERTY LEVEL LATITUDE','PROPERTY LEVEL LONGITUDE'],header=None,skiprows=1)\n",
    "TaxData5=pd.read_csv(output_file6,index_col=1,names=['index_column','ACRES','YEAR BUILT'],header=None,skiprows=1)\n",
    "TaxData6=pd.read_csv(output_file7,index_col=1,names=['index_column','LIVING SQUARE FEET','UNITS NUMBER'],header=None,skiprows=1)                                                                 "
   ]
  },
  {
   "cell_type": "code",
   "execution_count": 8,
   "metadata": {},
   "outputs": [],
   "source": [
    "TaxData1=TaxData1.drop(['index_column'],axis=1)\n",
    "TaxData2=TaxData2.drop(['index_column'],axis=1)\n",
    "TaxData3=TaxData3.drop(['index_column'],axis=1)\n",
    "TaxData4=TaxData4.drop(['index_column'],axis=1)\n",
    "TaxData5=TaxData5.drop(['index_column'],axis=1)\n",
    "TaxData6=TaxData6.drop(['index_column'],axis=1)"
   ]
  },
  {
   "cell_type": "code",
   "execution_count": 9,
   "metadata": {},
   "outputs": [],
   "source": [
    "output_data_dir = base + r\"/data/TaxData.csv\"\n",
    "\n",
    "TaxData=pd.concat([TaxData1,TaxData2,TaxData3,TaxData4,TaxData5,TaxData6],axis=1)\n",
    "TaxData.index=TaxData.index.rename('ORIGINAL APN')\n",
    "TaxData.to_csv(output_data_dir)"
   ]
  },
  {
   "cell_type": "code",
   "execution_count": null,
   "metadata": {},
   "outputs": [],
   "source": []
  }
 ],
 "metadata": {
  "kernelspec": {
   "display_name": "Python 3",
   "language": "python",
   "name": "python3"
  },
  "language_info": {
   "codemirror_mode": {
    "name": "ipython",
    "version": 3
   },
   "file_extension": ".py",
   "mimetype": "text/x-python",
   "name": "python",
   "nbconvert_exporter": "python",
   "pygments_lexer": "ipython3",
   "version": "3.8.5"
  }
 },
 "nbformat": 4,
 "nbformat_minor": 2
}
