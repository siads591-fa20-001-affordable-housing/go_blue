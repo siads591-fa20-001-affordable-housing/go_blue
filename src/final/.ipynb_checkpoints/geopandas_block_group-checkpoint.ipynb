{
 "cells": [
  {
   "cell_type": "markdown",
   "metadata": {},
   "source": [
    "# University of Michigan\n",
    "## School of Information\n",
    "**Masters of Applied Data Science**<br>\n",
    "**Milestone 1**<br>\n",
    "<br>\n",
    "Affordable Housing Project\n",
    "<br><br>\n",
    "**Submitted by**<br>\n",
    ">Alan Fehsenfeld<br>Koon Leong Ho<br>George Thio"
   ]
  },
  {
   "cell_type": "markdown",
   "metadata": {},
   "source": [
    "# Add Block Groups and Blocks to Municipalities File"
   ]
  },
  {
   "cell_type": "code",
   "execution_count": 1,
   "metadata": {},
   "outputs": [
    {
     "data": {
      "text/plain": [
       "'/Users/koonleong/Documents/UMMADS/SIADS591/project_git/go_blue/src/final'"
      ]
     },
     "execution_count": 1,
     "metadata": {},
     "output_type": "execute_result"
    }
   ],
   "source": [
    "import geopandas\n",
    "import pandas as pd\n",
    "from config import basedir\n",
    "base = basedir()"
   ]
  },
  {
   "cell_type": "markdown",
   "metadata": {},
   "source": [
    "## Import Block Groups and Municipality File"
   ]
  },
  {
   "cell_type": "code",
   "execution_count": 27,
   "metadata": {},
   "outputs": [],
   "source": [
    "data_dir = base + r\"/data/raw/shape_files\"\n",
    "fp_input_file = data_dir + r\"/tl_2019_26_bg.shp\"\n",
    "\n",
    "# to be deleted\n",
    "# michigan_block_groups=geopandas.read_file('documents/UofM/SIADS 591/tl_2019_26_bg.shp')\n",
    "\n",
    "michigan_block_groups=geopandas.read_file(input_file)\n",
    "michigan_block_groups=michigan_block_groups.to_crs('EPSG:2253')\n",
    "michigan_block_groups['centroid']=michigan_block_groups.centroid"
   ]
  },
  {
   "cell_type": "code",
   "execution_count": 28,
   "metadata": {},
   "outputs": [],
   "source": [
    "data_dir = base + r\"/data/municipalities\"\n",
    "fp_input_file = data_dir + r\"/All Municipalities Geometry Only.shp\"\n",
    "\n",
    "# to be deleted\n",
    "# Municipalities_file=geopandas.read_file('documents/UofM/SIADS 591/All Municipalities Geometry Only.shp')\n",
    "\n",
    "Municipalities_file=geopandas.read_file(fp_input_file)"
   ]
  },
  {
   "cell_type": "markdown",
   "metadata": {},
   "source": [
    "## Combine Municipalities File and Block Group Files, Export File"
   ]
  },
  {
   "cell_type": "code",
   "execution_count": 57,
   "metadata": {},
   "outputs": [],
   "source": [
    "Municipalities_file_with_block_groups=geopandas.sjoin(Municipalities_file,michigan_block_groups,how='left',op='intersects')"
   ]
  },
  {
   "cell_type": "code",
   "execution_count": 58,
   "metadata": {},
   "outputs": [],
   "source": [
    "Municipalities_file_with_block_groups=Municipalities_file_with_block_groups.drop(columns=['index_right','STATEFP','COUNTYFP','TRACTCE','BLKGRPCE','NAMELSAD','MTFCC','FUNCSTAT','ALAND','AWATER','centroid'])"
   ]
  },
  {
   "cell_type": "code",
   "execution_count": 59,
   "metadata": {},
   "outputs": [],
   "source": [
    "Municipalities_file_with_block_groups=Municipalities_file_with_block_groups.rename(columns={'GEOID':'GEOID_BLOCK_GROUP','INTPTLAT':'INTPTLAT_BLOCK_GROUP','INTPTLON':'INTPTLON_BLOCK_GROUP'})\n",
    "Municipalities_file_with_block_groups=Municipalities_file_with_block_groups.drop_duplicates(subset=['ID'],keep='first')"
   ]
  },
  {
   "cell_type": "code",
   "execution_count": 60,
   "metadata": {},
   "outputs": [],
   "source": [
    "Municipalities_file_with_block_groups=Municipalities_file_with_block_groups.loc[:,['ID','GEOID_BLOCK_GROUP']]\n",
    "Municipalities_file_with_block_groups=Municipalities_file_with_block_groups.rename(columns={'GEOID_BLOCK_GROUP':'block_group'})\n",
    "\n",
    "data_dir = base + r\"/data\"\n",
    "fp_output_file = data_dir + r\"/block_groups.csv\"\n",
    "Municipalities_file_with_block_groups.to_csv(fp_output_file,index=False)"
   ]
  },
  {
   "cell_type": "markdown",
   "metadata": {},
   "source": [
    "## Add Blocks to Municipality File"
   ]
  },
  {
   "cell_type": "code",
   "execution_count": 10,
   "metadata": {},
   "outputs": [],
   "source": [
    "data_dir = base + r\"/data/raw/shape_files\"\n",
    "fp_input_file = data_dir + r\"/tl_2019_26_tabblock10.shp\"\n",
    "\n",
    "# to be deleted\n",
    "# michigan_blocks=geopandas.read_file('documents/UofM/SIADS 591/tl_2019_26_tabblock10.shp')\n",
    "\n",
    "michigan_blocks=geopandas.read_file(fp_input_file)\n",
    "michigan_blocks=michigan_blocks.to_crs('EPSG:2253')\n",
    "michigan_blocks['centroid']=michigan_blocks.centroid"
   ]
  },
  {
   "cell_type": "code",
   "execution_count": 11,
   "metadata": {},
   "outputs": [],
   "source": [
    "Municipalities_file_with_block_and_block_groups=geopandas.sjoin(Municipalities_file_with_block_groups,michigan_blocks,how='inner',op='intersects')"
   ]
  },
  {
   "cell_type": "code",
   "execution_count": 13,
   "metadata": {},
   "outputs": [],
   "source": [
    "Municipalities_file_with_block_and_block_groups2=Municipalities_file_with_block_and_block_groups.drop(columns=['index_right','STATEFP10','COUNTYFP10','TRACTCE10',\\\n",
    "                                                                                                              'BLOCKCE10','NAME10','MTFCC10','UR10','UACE10','UATYPE',\\\n",
    "                                                                                                              'FUNCSTAT10','ALAND10','AWATER10','INTPTLAT10',\\\n",
    "                                                                                                              'INTPTLON10','centroid'])\n",
    "Municipalities_file_with_block_and_block_groups3=Municipalities_file_with_block_and_block_groups2.rename(columns={'GEOID10':'GEOID_BLOCK'})"
   ]
  },
  {
   "cell_type": "code",
   "execution_count": 14,
   "metadata": {},
   "outputs": [],
   "source": [
    "Municipalities_file_with_block_and_block_groups4=Municipalities_file_with_block_and_block_groups3.drop_duplicates(subset=['ID'],keep='first')\n"
   ]
  },
  {
   "cell_type": "code",
   "execution_count": 20,
   "metadata": {},
   "outputs": [],
   "source": [
    "data_dir = base + r\"/data/block_group\"\n",
    "fp_output_file = data_dir + r\"/Municipalities_file_with_block_and_block_groups.csv\"\n",
    "\n",
    "Municipalities_file_with_block_and_block_groups4.to_csv(fp_output_file,index=False)\n",
    "\n",
    "# to be deleted\n",
    "# Municipalities_file_with_block_and_block_groups4. \\\n",
    "#     to_csv('documents/UofM/SIADS 591/Municipalities_file_with_block_and_block_groups.csv',index=False)"
   ]
  },
  {
   "cell_type": "code",
   "execution_count": 21,
   "metadata": {},
   "outputs": [
    {
     "data": {
      "text/html": [
       "<div>\n",
       "<style scoped>\n",
       "    .dataframe tbody tr th:only-of-type {\n",
       "        vertical-align: middle;\n",
       "    }\n",
       "\n",
       "    .dataframe tbody tr th {\n",
       "        vertical-align: top;\n",
       "    }\n",
       "\n",
       "    .dataframe thead th {\n",
       "        text-align: right;\n",
       "    }\n",
       "</style>\n",
       "<table border=\"1\" class=\"dataframe\">\n",
       "  <thead>\n",
       "    <tr style=\"text-align: right;\">\n",
       "      <th></th>\n",
       "      <th>ID</th>\n",
       "      <th>geometry</th>\n",
       "      <th>GEOID_BLOCK_GROUP</th>\n",
       "      <th>INTPTLAT_BLOCK_GROUP</th>\n",
       "      <th>INTPTLON_BLOCK_GROUP</th>\n",
       "      <th>GEOID_BLOCK</th>\n",
       "    </tr>\n",
       "  </thead>\n",
       "  <tbody>\n",
       "    <tr>\n",
       "      <th>0</th>\n",
       "      <td>0</td>\n",
       "      <td>POLYGON ((12813343.266 557613.008, 12813303.66...</td>\n",
       "      <td>260810119011</td>\n",
       "      <td>+42.9940234</td>\n",
       "      <td>-085.5084834</td>\n",
       "      <td>260810119011002</td>\n",
       "    </tr>\n",
       "    <tr>\n",
       "      <th>4</th>\n",
       "      <td>4</td>\n",
       "      <td>POLYGON ((12814000.590 557653.542, 12813739.47...</td>\n",
       "      <td>260810119011</td>\n",
       "      <td>+42.9940234</td>\n",
       "      <td>-085.5084834</td>\n",
       "      <td>260810119011002</td>\n",
       "    </tr>\n",
       "    <tr>\n",
       "      <th>6</th>\n",
       "      <td>6</td>\n",
       "      <td>POLYGON ((12813050.536 554983.976, 12813051.30...</td>\n",
       "      <td>260810119011</td>\n",
       "      <td>+42.9940234</td>\n",
       "      <td>-085.5084834</td>\n",
       "      <td>260810119011002</td>\n",
       "    </tr>\n",
       "    <tr>\n",
       "      <th>187</th>\n",
       "      <td>187</td>\n",
       "      <td>POLYGON ((12815181.707 558633.109, 12815181.13...</td>\n",
       "      <td>260810119011</td>\n",
       "      <td>+42.9940234</td>\n",
       "      <td>-085.5084834</td>\n",
       "      <td>260810119011002</td>\n",
       "    </tr>\n",
       "    <tr>\n",
       "      <th>191</th>\n",
       "      <td>191</td>\n",
       "      <td>POLYGON ((12813569.904 554673.790, 12813142.10...</td>\n",
       "      <td>260810119011</td>\n",
       "      <td>+42.9940234</td>\n",
       "      <td>-085.5084834</td>\n",
       "      <td>260810119011002</td>\n",
       "    </tr>\n",
       "    <tr>\n",
       "      <th>...</th>\n",
       "      <td>...</td>\n",
       "      <td>...</td>\n",
       "      <td>...</td>\n",
       "      <td>...</td>\n",
       "      <td>...</td>\n",
       "      <td>...</td>\n",
       "    </tr>\n",
       "    <tr>\n",
       "      <th>221601</th>\n",
       "      <td>233543</td>\n",
       "      <td>POLYGON ((12858390.847 647480.793, 12858390.83...</td>\n",
       "      <td>260810101021</td>\n",
       "      <td>+43.2658583</td>\n",
       "      <td>-085.3456535</td>\n",
       "      <td>260810101021043</td>\n",
       "    </tr>\n",
       "    <tr>\n",
       "      <th>223015</th>\n",
       "      <td>235088</td>\n",
       "      <td>POLYGON ((12858389.753 647287.444, 12858389.73...</td>\n",
       "      <td>260810101021</td>\n",
       "      <td>+43.2658583</td>\n",
       "      <td>-085.3456535</td>\n",
       "      <td>260810101021043</td>\n",
       "    </tr>\n",
       "    <tr>\n",
       "      <th>222452</th>\n",
       "      <td>234470</td>\n",
       "      <td>POLYGON ((12862425.007 647222.674, 12862177.66...</td>\n",
       "      <td>260810101021</td>\n",
       "      <td>+43.2658583</td>\n",
       "      <td>-085.3456535</td>\n",
       "      <td>260810101021034</td>\n",
       "    </tr>\n",
       "    <tr>\n",
       "      <th>222968</th>\n",
       "      <td>235035</td>\n",
       "      <td>POLYGON ((12861880.098 647412.549, 12861877.68...</td>\n",
       "      <td>260810101021</td>\n",
       "      <td>+43.2658583</td>\n",
       "      <td>-085.3456535</td>\n",
       "      <td>260810101021034</td>\n",
       "    </tr>\n",
       "    <tr>\n",
       "      <th>222645</th>\n",
       "      <td>234677</td>\n",
       "      <td>POLYGON ((12858526.085 646620.927, 12858519.02...</td>\n",
       "      <td>260810101021</td>\n",
       "      <td>+43.2658583</td>\n",
       "      <td>-085.3456535</td>\n",
       "      <td>260810101021041</td>\n",
       "    </tr>\n",
       "  </tbody>\n",
       "</table>\n",
       "<p>227210 rows × 6 columns</p>\n",
       "</div>"
      ],
      "text/plain": [
       "            ID                                           geometry  \\\n",
       "0            0  POLYGON ((12813343.266 557613.008, 12813303.66...   \n",
       "4            4  POLYGON ((12814000.590 557653.542, 12813739.47...   \n",
       "6            6  POLYGON ((12813050.536 554983.976, 12813051.30...   \n",
       "187        187  POLYGON ((12815181.707 558633.109, 12815181.13...   \n",
       "191        191  POLYGON ((12813569.904 554673.790, 12813142.10...   \n",
       "...        ...                                                ...   \n",
       "221601  233543  POLYGON ((12858390.847 647480.793, 12858390.83...   \n",
       "223015  235088  POLYGON ((12858389.753 647287.444, 12858389.73...   \n",
       "222452  234470  POLYGON ((12862425.007 647222.674, 12862177.66...   \n",
       "222968  235035  POLYGON ((12861880.098 647412.549, 12861877.68...   \n",
       "222645  234677  POLYGON ((12858526.085 646620.927, 12858519.02...   \n",
       "\n",
       "       GEOID_BLOCK_GROUP INTPTLAT_BLOCK_GROUP INTPTLON_BLOCK_GROUP  \\\n",
       "0           260810119011          +42.9940234         -085.5084834   \n",
       "4           260810119011          +42.9940234         -085.5084834   \n",
       "6           260810119011          +42.9940234         -085.5084834   \n",
       "187         260810119011          +42.9940234         -085.5084834   \n",
       "191         260810119011          +42.9940234         -085.5084834   \n",
       "...                  ...                  ...                  ...   \n",
       "221601      260810101021          +43.2658583         -085.3456535   \n",
       "223015      260810101021          +43.2658583         -085.3456535   \n",
       "222452      260810101021          +43.2658583         -085.3456535   \n",
       "222968      260810101021          +43.2658583         -085.3456535   \n",
       "222645      260810101021          +43.2658583         -085.3456535   \n",
       "\n",
       "            GEOID_BLOCK  \n",
       "0       260810119011002  \n",
       "4       260810119011002  \n",
       "6       260810119011002  \n",
       "187     260810119011002  \n",
       "191     260810119011002  \n",
       "...                 ...  \n",
       "221601  260810101021043  \n",
       "223015  260810101021043  \n",
       "222452  260810101021034  \n",
       "222968  260810101021034  \n",
       "222645  260810101021041  \n",
       "\n",
       "[227210 rows x 6 columns]"
      ]
     },
     "execution_count": 21,
     "metadata": {},
     "output_type": "execute_result"
    }
   ],
   "source": [
    "Municipalities_file_with_block_and_block_groups4"
   ]
  },
  {
   "cell_type": "code",
   "execution_count": null,
   "metadata": {},
   "outputs": [],
   "source": []
  }
 ],
 "metadata": {
  "kernelspec": {
   "display_name": "Python 3",
   "language": "python",
   "name": "python3"
  },
  "language_info": {
   "codemirror_mode": {
    "name": "ipython",
    "version": 3
   },
   "file_extension": ".py",
   "mimetype": "text/x-python",
   "name": "python",
   "nbconvert_exporter": "python",
   "pygments_lexer": "ipython3",
   "version": "3.8.5"
  }
 },
 "nbformat": 4,
 "nbformat_minor": 4
}
