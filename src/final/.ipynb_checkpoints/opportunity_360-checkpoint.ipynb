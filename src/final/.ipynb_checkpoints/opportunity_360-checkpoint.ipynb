{
 "cells": [
  {
   "cell_type": "markdown",
   "metadata": {},
   "source": [
    "# University of Michigan\n",
    "## School of Information\n",
    "**Masters of Applied Data Science**<br>\n",
    "**Milestone 1**<br>\n",
    "<br>\n",
    "Affordable Housing Project\n",
    "<br><br>\n",
    "**Submitted by**<br>\n",
    ">Alan Fehsenfeld<br>Koon Leong Ho<br>George Thio"
   ]
  },
  {
   "cell_type": "markdown",
   "metadata": {},
   "source": [
    "# Append Tax File with Opportunity 360 Score"
   ]
  },
  {
   "cell_type": "code",
   "execution_count": null,
   "metadata": {},
   "outputs": [],
   "source": [
    "import geopandas\n",
    "import pandas as pd\n",
    "from tabula import read_pdf\n",
    "from config import basedir\n",
    "\n",
    "base = basedir()"
   ]
  },
  {
   "cell_type": "code",
   "execution_count": null,
   "metadata": {},
   "outputs": [],
   "source": [
    "op360=read_pdf('https://www.michigan.gov/documents/mshda/mshda_li_ca_34_tab_y_opportunity360_points_679968_7.pdf'\\\n",
    "               ,stream=True,pages='3-83')\n",
    "op360=pd.concat(op360)\n",
    "op360=op360.drop(columns=['Access Point 2018','Education Point','Economic Security Point',\\\n",
    "                          'Health and Wellness Point','Total Points'])\n",
    "op360=op360.rename(columns={'Unnamed: 0':'Access Point 2018','Unnamed: 1':'Education Point',\\\n",
    "                      'Unnamed: 2':'Economic Security Point','Unnamed: 3':'Health and Wellness Point',\\\n",
    "                      'Unnamed: 4':'Total Points'})"
   ]
  },
  {
   "cell_type": "markdown",
   "metadata": {},
   "source": [
    "## Read Cenus Tract Shape File and Opportunity 360 Dataset and Join Them"
   ]
  },
  {
   "cell_type": "code",
   "execution_count": null,
   "metadata": {},
   "outputs": [],
   "source": [
    "data_dir = base + r\"/data/raw/shape_files\"\n",
    "fp_input_file = data_dir + r\"/tl_2019_26_tract.shp\"\n",
    "\n",
    "# to be deleted\n",
    "# tracts=geopandas.read_file('documents/UofM/SIADS 591/tl_2019_26_tract.shp')\n",
    "\n",
    "tracts=geopandas.read_file(fp_input_file)\n",
    "tracts.loc[:,'GEOID']=tracts.loc[:,'GEOID'].astype(int)\n",
    "\n",
    "op360=read_pdf('https://www.michigan.gov/documents/mshda/mshda_li_ca_34_tab_y_opportunity360_points_679968_7.pdf'\\\n",
    "               ,stream=True,pages='3-83')\n",
    "op360=pd.concat(op360)\n",
    "op360=op360.drop(columns=['Access Point 2018','Education Point','Economic Security Point',\\\n",
    "                          'Health and Wellness Point','Total Points'])\n",
    "op360=op360.rename(columns={'Unnamed: 0':'Access Point 2018','Unnamed: 1':'Education Point',\\\n",
    "                      'Unnamed: 2':'Economic Security Point','Unnamed: 3':'Health and Wellness Point',\\\n",
    "                      'Unnamed: 4':'Total Points'})\n",
    "op360=geopandas.GeoDataFrame(op360)\n",
    "\n",
    "tracts=tracts.merge(op360,how='left',left_on='GEOID',right_on='Census Tract ID')\n",
    "tracts=geopandas.GeoDataFrame(tracts,geometry='geometry')\n"
   ]
  },
  {
   "cell_type": "markdown",
   "metadata": {},
   "source": [
    "## Read Municipalities File"
   ]
  },
  {
   "cell_type": "code",
   "execution_count": null,
   "metadata": {},
   "outputs": [],
   "source": [
    "data_dir = base + r\"/municipalities\"\n",
    "fp_input_file = data_dir + r\"/All Municipalities Geometry Only.shp\"\n",
    "\n",
    "# municipalities_file=geopandas.read_file('documents/UofM/SIADS 591/All Municipalities Geometry Only.shp')\n",
    "\n",
    "municipalities_file=geopandas.read_file(fp_input_file)"
   ]
  },
  {
   "cell_type": "markdown",
   "metadata": {},
   "source": [
    "## Add 1/3 Mile Buffer to Census Tracts"
   ]
  },
  {
   "cell_type": "code",
   "execution_count": null,
   "metadata": {},
   "outputs": [],
   "source": [
    "tracts_plus_one_third=tracts.to_crs('EPSG:2253')\n",
    "tracts_geometry=tracts_plus_one_third.buffer(1760)\n",
    "tracts_plus_one_third['geometry']=tracts_geometry"
   ]
  },
  {
   "cell_type": "markdown",
   "metadata": {},
   "source": [
    "## Join Buffered Census Tracts to Municipalities File"
   ]
  },
  {
   "cell_type": "code",
   "execution_count": null,
   "metadata": {},
   "outputs": [],
   "source": [
    "tract_scores=geopandas.sjoin(tracts_plus_one_third,municipalities_file,how='right',op='intersects')"
   ]
  },
  {
   "cell_type": "markdown",
   "metadata": {},
   "source": [
    "## Find the Maximum Points for Each Property in the Municipalities File"
   ]
  },
  {
   "cell_type": "code",
   "execution_count": null,
   "metadata": {},
   "outputs": [],
   "source": [
    "tract_scores=tract_scores.loc[:,['ID','Access Point 2018','Education Point','Economic Security Point','Health and Wellness Point']]\n",
    "tract_scores2=tract_scores.groupby(['ID']).agg('max')\n",
    "tract_scores2=tract_scores2.reset_index()\n",
    "tract_scores2['Op360_ind']=tract_scores2['Access Point 2018']+tract_scores2['Education Point']+\\\n",
    "    tract_scores2['Economic Security Point']+tract_scores2['Health and Wellness Point']\n",
    "tract_scores2=tract_scores2.loc[:,['ID','Op360_ind']]"
   ]
  },
  {
   "cell_type": "code",
   "execution_count": null,
   "metadata": {},
   "outputs": [],
   "source": [
    "data_dir = base + r\"/municipalities\"\n",
    "fp_output_file = data_dir + r\"/Opportunity 360 Results.csv\"\n",
    "\n",
    "# tract_scores2.to_csv('documents/UofM/SIADS 591/Opportunity 360 Results.csv',index=False)\n",
    "\n",
    "tract_scores2.to_csv(fp_output_file,index=False)\n",
    "\n"
   ]
  },
  {
   "cell_type": "code",
   "execution_count": null,
   "metadata": {},
   "outputs": [],
   "source": []
  }
 ],
 "metadata": {
  "kernelspec": {
   "display_name": "Python 3",
   "language": "python",
   "name": "python3"
  },
  "language_info": {
   "codemirror_mode": {
    "name": "ipython",
    "version": 3
   },
   "file_extension": ".py",
   "mimetype": "text/x-python",
   "name": "python",
   "nbconvert_exporter": "python",
   "pygments_lexer": "ipython3",
   "version": "3.8.5"
  }
 },
 "nbformat": 4,
 "nbformat_minor": 4
}
